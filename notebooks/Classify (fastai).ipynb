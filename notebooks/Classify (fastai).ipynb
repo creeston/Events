{
 "cells": [
  {
   "cell_type": "code",
   "execution_count": 23,
   "metadata": {},
   "outputs": [
    {
     "name": "stdout",
     "output_type": "stream",
     "text": [
      "fast.ai version is: 1.0.61\n"
     ]
    }
   ],
   "source": [
    "import json\n",
    "import pandas as pd\n",
    "import numpy as np\n",
    "import re\n",
    "import statistics\n",
    "import urlextract\n",
    "import fastai\n",
    "print('fast.ai version is:', fastai.__version__)\n",
    "\n",
    "from sklearn.model_selection import train_test_split\n",
    "from nltk.corpus import stopwords\n",
    "from fastai import *\n",
    "from fastai.text import *\n",
    "from collections import Counter"
   ]
  },
  {
   "cell_type": "code",
   "execution_count": 2,
   "metadata": {},
   "outputs": [],
   "source": [
    "labels = [\n",
    "    \"compete\",\n",
    "    \"concert\",\n",
    "    \"concert_programm\",\n",
    "    \"exhibition\",\n",
    "    \"festival\",\n",
    "    \"food\",\n",
    "    \"free\",\n",
    "    \"game\",\n",
    "    \"lecture\",\n",
    "    \"market\",\n",
    "    \"online\",\n",
    "    \"open air\",\n",
    "    \"party\",\n",
    "    \"show\",\n",
    "    \"sport\",\n",
    "    \"standup\",\n",
    "    \"theatre\",\n",
    "    \"tour\",\n",
    "    \"training\",\n",
    "    \"view\" #424\n",
    "]\n",
    "\n",
    "label_ids = list(range(405, 425))"
   ]
  },
  {
   "cell_type": "code",
   "execution_count": 3,
   "metadata": {},
   "outputs": [],
   "source": [
    "raw_data = []\n",
    "with open(\"file_2.json\", \"r\", encoding=\"utf-8\") as f:\n",
    "    for line in f:\n",
    "        e = json.loads(line.strip())\n",
    "        raw_data.append((e['text'], [label_ids.index(a['label']) for a in e['annotations']]))"
   ]
  },
  {
   "cell_type": "code",
   "execution_count": 4,
   "metadata": {},
   "outputs": [],
   "source": [
    "class TextPreprocessor:\n",
    "    def __init__(self):\n",
    "        self.url_extractor = urlextract.URLExtract()\n",
    "        self.tag_regex = re.compile(r\"<[^>]*>\")\n",
    "        self.email_regex = re.compile(r\"[^\\s]+@[^\\s]+\")\n",
    "        self.number_regex = re.compile(r'\\d+(?:\\.\\d*(?:[eE]\\d+))?')\n",
    "        self.spaces_regex = re.compile(r\"\\s+\")\n",
    "        self.special_chars = [\n",
    "            \"<\", \"[\", \"]\", \"`\", \"^\", \">\", \"+\", \"?\", \"!\", \"'\", \".\", \",\", \":\",\n",
    "            \"*\", \"%\", \"#\", \"_\", \"=\", \"-\", \"&\", '/', '\\\\', '(', ')', \";\", \"\\\"\", \"«\", \"»\", \"|\", \"•\", \"—\", \"–\", \"●\", \"►\", \"\\n\",\n",
    "            \"@\", \"$\"\n",
    "        ]\n",
    "        \n",
    "    def preprocess_text(self, text):\n",
    "        text = text.lower()\n",
    "        text = text.replace('\\\\xa', ' ')\n",
    "        text = self.remove_html_tags(text)\n",
    "        text = self.replace_urls(text)\n",
    "        text = self.remove_emails(text)\n",
    "        #text = self.replace_numbers(text)\n",
    "        text = self.remove_special_characters(text)\n",
    "        text = text.lower().replace(\"ё\", \"е\")\n",
    "        text = re.sub(' +', ' ', text)\n",
    "        text = re.sub('[^a-zA-Zа-яА-Я1-9]+', ' ', text)\n",
    "        return text.strip()\n",
    "\n",
    "    def split_by_tokens(self, sentences):\n",
    "        for sentence in sentences:\n",
    "            yield [morph.parse(t.lower().strip())[0].normal_form for t in word_tokenize(sentence)]\n",
    "    \n",
    "    def remove_html_tags(self, text):\n",
    "        text = self.tag_regex.sub(\" \", text).split(\" \")\n",
    "        text = filter(len, text)\n",
    "        text = ' '.join(text)\n",
    "        return text\n",
    "\n",
    "    def replace_urls(self, text):\n",
    "        urls = list(set(self.url_extractor.find_urls(text)))\n",
    "        urls.sort(key=lambda u: len(u), reverse=True)\n",
    "        for url in urls:\n",
    "            text = text.replace(url, \"\")\n",
    "        return text\n",
    "\n",
    "    def remove_emails(self, text):\n",
    "        return self.email_regex.sub(\"\", text)\n",
    "    \n",
    "    def replace_numbers(self, text):\n",
    "        return self.number_regex.sub(\" number \", text)\n",
    "\n",
    "    def remove_special_characters(self, text):\n",
    "        for char in self.special_chars:\n",
    "            text = text.replace(str(char), \"\")\n",
    "        return text\n"
   ]
  },
  {
   "cell_type": "code",
   "execution_count": 5,
   "metadata": {},
   "outputs": [],
   "source": [
    "preprocessor = TextPreprocessor()\n",
    "data = [(preprocessor.preprocess_text(d[0]), d[1]) for d in raw_data]"
   ]
  },
  {
   "cell_type": "code",
   "execution_count": 6,
   "metadata": {},
   "outputs": [
    {
     "data": {
      "text/plain": [
       "('один из главных стендапкомиков страны готов снова войти в образ гламурного подонка и порадовать поклонников бескомпромиссного юмора новыми монологами на самые животрепещущие темыдекабрь для павла воли не обычный месяц а месяц душевных встреч с ценителями своего таланта да и просто с теми кто хочет от души повеселиться и убедиться в том что современный юмор живздоров и вовсю процветает не станет исключением и этот декабрь любимый миллионами комик отправляется в тур по стране в рамках которого выступит и в екатеринбурге на сцене киноконцертного театра космос юмор воли живой яркий острый на большом standup в столице урала артист представит новую программу в которую вошли монологи на злобу дня жизненные зарисовки и уморительные рассуждения о неочевидном смысле происходящего вокруг разумеется не обойдется и без талантливых импровизаций концерт воли это отличный способ поднять себе настроение и зарядиться жизненной энергией',\n",
       " [15])"
      ]
     },
     "execution_count": 6,
     "metadata": {},
     "output_type": "execute_result"
    }
   ],
   "source": [
    "data[123]"
   ]
  },
  {
   "cell_type": "code",
   "execution_count": 15,
   "metadata": {},
   "outputs": [],
   "source": [
    "df_train=pd.DataFrame(columns=['Text', 'Label'])\n",
    "df_test=pd.DataFrame(columns=['Text', 'Label'])\n",
    "\n",
    "random.shuffle(data)\n",
    "data_texts = [d[0] for d in data]\n",
    "data_labels = [\" \".join([str(l) for l in d[1]]) for d in data]"
   ]
  },
  {
   "cell_type": "code",
   "execution_count": 19,
   "metadata": {},
   "outputs": [],
   "source": [
    "df_train['Text'], df_test['Text'], df_train['Label'], df_test['Label'] = train_test_split(data_texts, data_labels, test_size=0.1, random_state=1)"
   ]
  },
  {
   "cell_type": "code",
   "execution_count": 21,
   "metadata": {},
   "outputs": [],
   "source": [
    "df_val = pd.DataFrame(columns=['Text', 'Label'])\n",
    "\n",
    "df_train, df_val = train_test_split(df_train, test_size=0.1, random_state=1)"
   ]
  },
  {
   "cell_type": "code",
   "execution_count": 26,
   "metadata": {},
   "outputs": [
    {
     "name": "stdout",
     "output_type": "stream",
     "text": [
      "training = 523\n",
      "compete = 148\n",
      "game = 513\n",
      "tour = 510\n",
      "theatre = 563\n",
      "standup = 451\n",
      "concert = 558\n",
      "concert_programm = 505\n",
      "party = 521\n",
      "free = 1388\n",
      "sport = 507\n",
      "open air = 200\n",
      "show = 513\n",
      "festival = 561\n",
      "market = 508\n",
      "exhibition = 523\n",
      "lecture = 512\n",
      "food = 120\n",
      "view = 506\n",
      "online = 36\n"
     ]
    }
   ],
   "source": [
    "for t, c in Counter([l for sublist in [d[1] for d in data] for l in sublist]).items():\n",
    "    print(\"%s = %d\" % (labels[t], c))"
   ]
  },
  {
   "cell_type": "code",
   "execution_count": 28,
   "metadata": {},
   "outputs": [
    {
     "data": {
      "text/html": [],
      "text/plain": [
       "<IPython.core.display.HTML object>"
      ]
     },
     "metadata": {},
     "output_type": "display_data"
    },
    {
     "data": {
      "text/html": [],
      "text/plain": [
       "<IPython.core.display.HTML object>"
      ]
     },
     "metadata": {},
     "output_type": "display_data"
    }
   ],
   "source": [
    "tokenizer = Tokenizer(lang='xx')\n",
    "data_lm = TextLMDataBunch.from_df(\n",
    "    '', \n",
    "    tokenizer=tokenizer, \n",
    "    bs=16, \n",
    "    train_df=df_train, \n",
    "    valid_df=df_val, \n",
    "    text_cols=0,\n",
    "    label_delim=' ')"
   ]
  },
  {
   "cell_type": "code",
   "execution_count": 30,
   "metadata": {},
   "outputs": [
    {
     "data": {
      "text/html": [
       "<table border=\"1\" class=\"dataframe\">\n",
       "  <thead>\n",
       "    <tr style=\"text-align: right;\">\n",
       "      <th>idx</th>\n",
       "      <th>text</th>\n",
       "    </tr>\n",
       "  </thead>\n",
       "  <tbody>\n",
       "    <tr>\n",
       "      <td>0</td>\n",
       "      <td>сцену зеленого театра вднх свежая порция искрометных шуток на злобу дня будет ожидать зрителей каждую xxunk набирающий обороты телепроект stand up этим летом трансформируется в целую серию xxunk под открытым небом вплоть до 4 сентября избавляться от накопившегося за рабочую неделю стресса будут помогать звездные резиденты шоу в лице виктора комарова александра шаляпина зои xxunk ирины xxunk и многих xxunk июня хедлайнеры вечера слава комиссаренко иван усович и алексей щербаков</td>\n",
       "    </tr>\n",
       "    <tr>\n",
       "      <td>1</td>\n",
       "      <td>итоге актеры не только играют вживую но и делают это лежа сидя и даже на xxunk идет 1 час 3 минут xxbos драматическая комедия ситуаций на что может пойти в конкурсе красоты xxunk xxunk женщина если на кону большая квартира и огромный по xxunk меркам приз в двадцать пять тысяч xxunk конкурсанток отчаянно сражаются за главный приз соперничество превращается в xxunk но законы шоубизнеса xxunk xxunk xxunk режиссер несмотря на</td>\n",
       "    </tr>\n",
       "    <tr>\n",
       "      <td>2</td>\n",
       "      <td>иллюзии и разберете основные виды психических xxunk углубиться в изучение психологии смогут перейти на следующую ступень курса чтобы узнать подробности нажмите на кнопку xxbos цирковая программа которая соберет вместе более 12 экзотических животных и знаменитых цирковых xxunk xxunk xxunk на настоящих мотоциклах xxunk верблюды xxunk всеми цветами радуги павлины xxunk лошади xxunk препятствия гималайские медведи в горящих xxunk красноярцев ждет xxunk xxunk об шумных и ярких испанских традициях от представления</td>\n",
       "    </tr>\n",
       "    <tr>\n",
       "      <td>3</td>\n",
       "      <td>человеком очень серьезным он закончил военный университет и xxunk до капитана но потом круто изменил свою жизнь xxunk себя юмору правда по пути руслан получил еще одно высшее образование уже на xxunk теперь этот обаятельный участник comedy club выходит на сцену даря публике небывалый заряд отличного настроения на его концертах даже самый грустный человек на планете будет хохотать до xxunk ресторане maximilians все будет именно так как мы видим на</td>\n",
       "    </tr>\n",
       "    <tr>\n",
       "      <td>4</td>\n",
       "      <td>странствия и безусловно гостей концерта ожидают сюрпризы не будем забывать что концерт праздничный xxbos фестиваль море винила пройдет в пространстве тайга все что связано с пластинками оборудованием и xxunk в одном месте маркет выставка и xxunk сентября пройдет грандиозный праздник для всех любителей виниловых пластинок и xxunk культуры море винила раскинется в пространстве тайга ценителям и просто xxunk скучать не придется программа фестиваля будет весьма xxunk это продажа виниловых пластинок</td>\n",
       "    </tr>\n",
       "  </tbody>\n",
       "</table>"
      ],
      "text/plain": [
       "<IPython.core.display.HTML object>"
      ]
     },
     "metadata": {},
     "output_type": "display_data"
    }
   ],
   "source": [
    "data_lm.show_batch()"
   ]
  },
  {
   "cell_type": "code",
   "execution_count": 31,
   "metadata": {},
   "outputs": [],
   "source": [
    "weights_pretrained = 'ULMFit/lm_5_ep_lr2-3_5_stlr'\n",
    "itos_pretrained = 'ULMFit/itos'\n",
    "pretained_data = (weights_pretrained, itos_pretrained)"
   ]
  },
  {
   "cell_type": "code",
   "execution_count": 34,
   "metadata": {},
   "outputs": [],
   "source": [
    "config = awd_lstm_lm_config.copy()\n",
    "config['n_hid'] = 1150\n",
    "learn_lm = language_model_learner(data_lm, AWD_LSTM, config=config, pretrained_fnames=pretained_data, drop_mult=0.3)\n",
    "learn_lm.freeze()"
   ]
  },
  {
   "cell_type": "code",
   "execution_count": 35,
   "metadata": {},
   "outputs": [
    {
     "data": {
      "text/html": [
       "\n",
       "    <div>\n",
       "        <style>\n",
       "            /* Turns off some styling */\n",
       "            progress {\n",
       "                /* gets rid of default border in Firefox and Opera. */\n",
       "                border: none;\n",
       "                /* Needs to be in here for Safari polyfill so background images work as expected. */\n",
       "                background-size: auto;\n",
       "            }\n",
       "            .progress-bar-interrupted, .progress-bar-interrupted::-webkit-progress-bar {\n",
       "                background: #F44336;\n",
       "            }\n",
       "        </style>\n",
       "      <progress value='0' class='' max='1' style='width:300px; height:20px; vertical-align: middle;'></progress>\n",
       "      0.00% [0/1 00:00<00:00]\n",
       "    </div>\n",
       "    \n",
       "<table border=\"1\" class=\"dataframe\">\n",
       "  <thead>\n",
       "    <tr style=\"text-align: left;\">\n",
       "      <th>epoch</th>\n",
       "      <th>train_loss</th>\n",
       "      <th>valid_loss</th>\n",
       "      <th>accuracy</th>\n",
       "      <th>time</th>\n",
       "    </tr>\n",
       "  </thead>\n",
       "  <tbody>\n",
       "  </tbody>\n",
       "</table><p>\n",
       "\n",
       "    <div>\n",
       "        <style>\n",
       "            /* Turns off some styling */\n",
       "            progress {\n",
       "                /* gets rid of default border in Firefox and Opera. */\n",
       "                border: none;\n",
       "                /* Needs to be in here for Safari polyfill so background images work as expected. */\n",
       "                background-size: auto;\n",
       "            }\n",
       "            .progress-bar-interrupted, .progress-bar-interrupted::-webkit-progress-bar {\n",
       "                background: #F44336;\n",
       "            }\n",
       "        </style>\n",
       "      <progress value='99' class='' max='727' style='width:300px; height:20px; vertical-align: middle;'></progress>\n",
       "      13.62% [99/727 07:49<49:40 20.2476]\n",
       "    </div>\n",
       "    "
      ],
      "text/plain": [
       "<IPython.core.display.HTML object>"
      ]
     },
     "metadata": {},
     "output_type": "display_data"
    },
    {
     "name": "stdout",
     "output_type": "stream",
     "text": [
      "LR Finder is complete, type {learner_name}.recorder.plot() to see the graph.\n"
     ]
    },
    {
     "data": {
      "image/png": "[encoded data removed]",
      "text/plain": [
       "<Figure size 432x288 with 1 Axes>"
      ]
     },
     "metadata": {
      "needs_background": "light"
     },
     "output_type": "display_data"
    }
   ],
   "source": [
    "learn_lm.lr_find()\n",
    "learn_lm.recorder.plot()"
   ]
  },
  {
   "cell_type": "code",
   "execution_count": 36,
   "metadata": {},
   "outputs": [
    {
     "data": {
      "text/html": [
       "<table border=\"1\" class=\"dataframe\">\n",
       "  <thead>\n",
       "    <tr style=\"text-align: left;\">\n",
       "      <th>epoch</th>\n",
       "      <th>train_loss</th>\n",
       "      <th>valid_loss</th>\n",
       "      <th>accuracy</th>\n",
       "      <th>time</th>\n",
       "    </tr>\n",
       "  </thead>\n",
       "  <tbody>\n",
       "    <tr>\n",
       "      <td>0</td>\n",
       "      <td>6.316019</td>\n",
       "      <td>5.666403</td>\n",
       "      <td>0.198975</td>\n",
       "      <td>47:58</td>\n",
       "    </tr>\n",
       "    <tr>\n",
       "      <td>1</td>\n",
       "      <td>5.562184</td>\n",
       "      <td>5.349268</td>\n",
       "      <td>0.221925</td>\n",
       "      <td>49:04</td>\n",
       "    </tr>\n",
       "    <tr>\n",
       "      <td>2</td>\n",
       "      <td>4.623022</td>\n",
       "      <td>5.264508</td>\n",
       "      <td>0.230666</td>\n",
       "      <td>49:12</td>\n",
       "    </tr>\n",
       "  </tbody>\n",
       "</table>"
      ],
      "text/plain": [
       "<IPython.core.display.HTML object>"
      ]
     },
     "metadata": {},
     "output_type": "display_data"
    }
   ],
   "source": [
    "learn_lm.fit_one_cycle(3, 1e-2, moms=(0.8, 0.7))"
   ]
  },
  {
   "cell_type": "code",
   "execution_count": 52,
   "metadata": {},
   "outputs": [
    {
     "data": {
      "text/plain": [
       "'Сегодня в Минске проходят лекции и дискуссии можно провести всех со всего мира в этот день организует фестиваль авторских игрушек в клубе петербургскую'"
      ]
     },
     "execution_count": 52,
     "metadata": {},
     "output_type": "execute_result"
    }
   ],
   "source": [
    "learn_lm.predict(\"Сегодня в Минске\", n_words=20)"
   ]
  },
  {
   "cell_type": "code",
   "execution_count": 55,
   "metadata": {},
   "outputs": [
    {
     "name": "stderr",
     "output_type": "stream",
     "text": [
      "c:\\users\\asus\\appdata\\local\\programs\\python\\python37\\lib\\site-packages\\torch\\serialization.py:657: SourceChangeWarning: source code of class 'torch.nn.modules.rnn.LSTM' has changed. you can retrieve the original source code by accessing the object's source attribute or set `torch.nn.Module.dump_patches = True` and use the patch tool to revert the changes.\n",
      "  warnings.warn(msg, SourceChangeWarning)\n",
      "c:\\users\\asus\\appdata\\local\\programs\\python\\python37\\lib\\site-packages\\torch\\serialization.py:657: SourceChangeWarning: source code of class 'torch.nn.modules.batchnorm.BatchNorm1d' has changed. you can retrieve the original source code by accessing the object's source attribute or set `torch.nn.Module.dump_patches = True` and use the patch tool to revert the changes.\n",
      "  warnings.warn(msg, SourceChangeWarning)\n",
      "c:\\users\\asus\\appdata\\local\\programs\\python\\python37\\lib\\site-packages\\torch\\serialization.py:657: SourceChangeWarning: source code of class 'torch.nn.modules.activation.ReLU' has changed. you can retrieve the original source code by accessing the object's source attribute or set `torch.nn.Module.dump_patches = True` and use the patch tool to revert the changes.\n",
      "  warnings.warn(msg, SourceChangeWarning)\n"
     ]
    },
    {
     "data": {
      "text/html": [],
      "text/plain": [
       "<IPython.core.display.HTML object>"
      ]
     },
     "metadata": {},
     "output_type": "display_data"
    },
    {
     "data": {
      "text/html": [],
      "text/plain": [
       "<IPython.core.display.HTML object>"
      ]
     },
     "metadata": {},
     "output_type": "display_data"
    }
   ],
   "source": [
    "model = load_learner(\"\")"
   ]
  },
  {
   "cell_type": "code",
   "execution_count": 56,
   "metadata": {},
   "outputs": [
    {
     "name": "stderr",
     "output_type": "stream",
     "text": [
      "c:\\users\\asus\\appdata\\local\\programs\\python\\python37\\lib\\site-packages\\fastai\\torch_core.py:83: UserWarning: Tensor is int32: upgrading to int64; for better performance use int64 input\n",
      "  warn('Tensor is int32: upgrading to int64; for better performance use int64 input')\n"
     ]
    },
    {
     "data": {
      "text/plain": [
       "(MultiCategory tensor([0., 0., 0., 0., 0., 0., 0., 0., 0., 0., 0., 0., 0., 0., 0., 0., 1., 0.,\n",
       "         0., 0.]),\n",
       " tensor([0., 0., 0., 0., 0., 0., 0., 0., 0., 0., 0., 0., 0., 0., 0., 0., 1., 0.,\n",
       "         0., 0.]),\n",
       " tensor([6.8769e-09, 1.1508e-05, 1.9796e-19, 3.2919e-10, 3.8633e-07, 4.3129e-09,\n",
       "         4.1542e-10, 7.5069e-07, 3.8707e-10, 1.7216e-10, 5.5091e-05, 7.0980e-05,\n",
       "         1.7721e-08, 4.1713e-12, 9.4743e-08, 8.4092e-12, 6.3058e-01, 2.1811e-11,\n",
       "         5.8086e-03, 6.0468e-08]))"
      ]
     },
     "execution_count": 56,
     "metadata": {},
     "output_type": "execute_result"
    }
   ],
   "source": []
  },
  {
   "cell_type": "code",
   "execution_count": 58,
   "metadata": {},
   "outputs": [],
   "source": [
    "torch_labels = sorted([str(i) for i in range(20)])\n",
    "def predict(text):\n",
    "    text = preprocessor.preprocess_text(text)\n",
    "    p = model.predict(text)\n",
    "    result = []\n",
    "    for index, i in enumerate(p[1]):\n",
    "        if int(i) == 1:\n",
    "            true_label = int(torch_labels[index])\n",
    "            result.append(labels[true_label])\n",
    "    return result"
   ]
  },
  {
   "cell_type": "code",
   "execution_count": null,
   "metadata": {},
   "outputs": [],
   "source": []
  }
 ],
 "metadata": {
  "kernelspec": {
   "display_name": "Python 3",
   "language": "python",
   "name": "python3"
  },
  "language_info": {
   "codemirror_mode": {
    "name": "ipython",
    "version": 3
   },
   "file_extension": ".py",
   "mimetype": "text/x-python",
   "name": "python",
   "nbconvert_exporter": "python",
   "pygments_lexer": "ipython3",
   "version": "3.7.4"
  }
 },
 "nbformat": 4,
 "nbformat_minor": 4
}
