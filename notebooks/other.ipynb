{
 "cells": [
  {
   "cell_type": "code",
   "execution_count": 3,
   "metadata": {},
   "outputs": [],
   "source": [
    "import json\n",
    "import random"
   ]
  },
  {
   "cell_type": "code",
   "execution_count": null,
   "metadata": {},
   "outputs": [],
   "source": [
    "events = []\n",
    "with open(\"labeled_text\", \"r\", encoding=\"utf-8\") as f:\n",
    "    for line in f:\n",
    "        event = json.loads(line.strip())\n",
    "        events.append(event)\n",
    "\n",
    "with open(\"..\\\\labeled_afisha_text\", \"r\", encoding=\"utf-8\") as f:\n",
    "    for line in f:\n",
    "        event = json.loads(line.strip())\n",
    "        events.append(event)"
   ]
  },
  {
   "cell_type": "code",
   "execution_count": 3,
   "metadata": {},
   "outputs": [],
   "source": [
    "random.shuffle(events)"
   ]
  },
  {
   "cell_type": "code",
   "execution_count": 4,
   "metadata": {},
   "outputs": [],
   "source": [
    "with open(\"..\\\\data\\\\labeled_text\", \"w+\", encoding=\"utf-8\") as f:\n",
    "    for event in events:\n",
    "        f.write(json.dumps(event, ensure_ascii=False) + \"\\n\")"
   ]
  },
  {
   "cell_type": "code",
   "execution_count": 4,
   "metadata": {},
   "outputs": [],
   "source": [
    "events = []\n",
    "with open(\"..\\\\data\\\\labeled_text\", \"r\", encoding=\"utf-8\") as f:\n",
    "    for line in f:\n",
    "        e = json.loads(line.strip())\n",
    "        events.append(e)"
   ]
  },
  {
   "cell_type": "code",
   "execution_count": 6,
   "metadata": {
    "collapsed": true
   },
   "outputs": [
    {
     "name": "stdout",
     "output_type": "stream",
     "text": [
      "[-1, 10, 'EVENT']\n",
      "[-1, 8, 'EVENT']\n",
      "[-1, 9, 'EVENT']\n",
      "[-1, 7, 'FREE']\n",
      "[-1, 9, 'EVENT']\n",
      "[-1, 9, 'EVENT']\n",
      "[-1, 8, 'EVENT']\n",
      "[-1, 10, 'EVENT']\n",
      "[-1, 10, 'EVENT']\n",
      "[-1, 9, 'EVENT']\n",
      "[-1, 9, 'EVENT']\n",
      "[-1, 9, 'EVENT']\n",
      "[-1, 11, 'EVENT']\n",
      "[-1, 9, 'EVENT']\n",
      "[-1, 9, 'EVENT']\n",
      "[-1, 10, 'FREE']\n",
      "[-1, 8, 'EVENT']\n",
      "[-1, 9, 'EVENT']\n",
      "[-1, 9, 'EVENT']\n",
      "[-1, 11, 'EVENT']\n",
      "[-1, 8, 'EVENT']\n",
      "[-1, 9, 'EVENT']\n",
      "[-1, 10, 'FREE']\n",
      "[-1, 10, 'FREE']\n",
      "[-1, 9, 'EVENT']\n",
      "[-1, 13, 'EVENT']\n",
      "[-1, 9, 'EVENT']\n",
      "[-1, 9, 'EVENT']\n",
      "[-1, 9, 'EVENT']\n",
      "[-1, 9, 'EVENT']\n",
      "[-1, 9, 'EVENT']\n",
      "[-1, 12, 'EVENT']\n",
      "[-1, 9, 'EVENT']\n",
      "[-1, 10, 'EVENT']\n",
      "[-1, 8, 'EVENT']\n",
      "[-1, 9, 'EVENT']\n",
      "[-1, 8, 'EVENT']\n",
      "[-1, 10, 'EVENT']\n",
      "[-1, 8, 'EVENT']\n",
      "[-1, 12, 'EVENT']\n",
      "[-1, 8, 'EVENT']\n",
      "[-1, 9, 'EVENT']\n",
      "[-1, 8, 'EVENT']\n",
      "[-1, 8, 'EVENT']\n",
      "[-1, 9, 'EVENT']\n",
      "[-1, 11, 'EVENT']\n",
      "[-1, 12, 'EVENT']\n",
      "[-1, 10, 'EVENT']\n",
      "[-1, 11, 'EVENT']\n",
      "[-1, 10, 'EVENT']\n",
      "[-1, 7, 'FREE']\n",
      "[-1, 8, 'EVENT']\n",
      "[-1, 9, 'EVENT']\n",
      "[-1, 9, 'EVENT']\n",
      "[-1, 8, 'EVENT']\n",
      "[-1, 8, 'EVENT']\n",
      "[-1, 12, 'EVENT']\n",
      "[-1, 14, 'EVENT']\n",
      "[-1, 12, 'EVENT']\n",
      "[-1, 9, 'EVENT']\n",
      "[-1, 9, 'EVENT']\n",
      "[-1, 9, 'EVENT']\n",
      "[-1, 8, 'EVENT']\n",
      "[-1, 9, 'EVENT']\n"
     ]
    }
   ],
   "source": [
    "for e in events:\n",
    "    labels = e['labels']\n",
    "    for i in reversed(range(len(labels))):\n",
    "        if labels[i][0] == -1:\n",
    "            print(labels[i])\n",
    "            del labels[i]"
   ]
  },
  {
   "cell_type": "code",
   "execution_count": 14,
   "metadata": {},
   "outputs": [],
   "source": [
    "for e in events:\n",
    "    labels = sorted(e['labels'], key=lambda l: l[0])\n",
    "    filtered_labels = []\n",
    "    i = 0\n",
    "    while i < len(labels) - 1:\n",
    "        if labels[i][1] > labels[i + 1][0]:\n",
    "            if len(labels[i]) > len(labels[i + 1]):\n",
    "                filtered_labels.append(labels[i])\n",
    "            else:\n",
    "                filtered_labels.append(labels[i + 1])\n",
    "            i += 2\n",
    "        else:\n",
    "            filtered_labels.append(labels[i])\n",
    "            i += 1\n",
    "    e['labels'] = filtered_labels"
   ]
  },
  {
   "cell_type": "code",
   "execution_count": 16,
   "metadata": {},
   "outputs": [
    {
     "data": {
      "text/plain": [
       "{'text': '25 марта 19:00 концертный зал «Верхний город» сольный концерт лауреата международных вокальных конкурсов сопрано Гоар Акопян (Армения). В рамках концерта «...Святая к Музыке Любовь...» известная певица исполнит произведения В. Белинни, Дж. Пуччини, Г. Доницетти, Ф. Шуберта, П. Чайковского, Ф. Пуленка, А. Бабаджаняна, А. Пахмутовой и др. Гоар Акопян активно выступает с концертами в Армении, России, Беларуси. Отметим, что у певицы раннее прошли два сольных концерта в Минске которые с успехом были приняты Белорусской публикой. Певица исполнит мировые классические произведения, предложив слушателю погрузиться в мир великих композиторов, и услышать украшенные чарующим голосом мелодии, заставлявшие переживать любителей высокого искусства. Цена билета: 10,00-18,00 руб. Касса: +375 17 327 39 44 Инфо: +375 17 327 35 84 25 марта в 19:00',\n",
       " 'labels': [[0, 8, 'DATE'],\n",
       "  [12, 14, 'MONEY'],\n",
       "  [15, 45, 'ORGANIZATION'],\n",
       "  [54, 61, 'EVENT'],\n",
       "  [95, 104, 'EVENT'],\n",
       "  [105, 184, 'SUBJECT'],\n",
       "  [224, 234, 'PERSON'],\n",
       "  [236, 247, 'PERSON'],\n",
       "  [249, 261, 'PERSON'],\n",
       "  [263, 273, 'PERSON'],\n",
       "  [275, 289, 'PERSON'],\n",
       "  [291, 301, 'PERSON'],\n",
       "  [303, 317, 'PERSON'],\n",
       "  [319, 332, 'PERSON'],\n",
       "  [351, 358, 'EVENT']]}"
      ]
     },
     "execution_count": 16,
     "metadata": {},
     "output_type": "execute_result"
    }
   ],
   "source": [
    "events[24]"
   ]
  },
  {
   "cell_type": "code",
   "execution_count": 17,
   "metadata": {},
   "outputs": [],
   "source": [
    "with open(\"..\\\\data\\\\labeled_text\", \"w+\", encoding=\"utf-8\") as f:\n",
    "    for event in events:\n",
    "        f.write(json.dumps(event, ensure_ascii=False) + \"\\n\")"
   ]
  },
  {
   "cell_type": "code",
   "execution_count": null,
   "metadata": {},
   "outputs": [],
   "source": []
  }
 ],
 "metadata": {
  "kernelspec": {
   "display_name": "Python 3",
   "language": "python",
   "name": "python3"
  },
  "language_info": {
   "codemirror_mode": {
    "name": "ipython",
    "version": 3
   },
   "file_extension": ".py",
   "mimetype": "text/x-python",
   "name": "python",
   "nbconvert_exporter": "python",
   "pygments_lexer": "ipython3",
   "version": "3.7.4"
  }
 },
 "nbformat": 4,
 "nbformat_minor": 4
}
