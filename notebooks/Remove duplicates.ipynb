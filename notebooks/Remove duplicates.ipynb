{
 "cells": [
  {
   "cell_type": "code",
   "execution_count": 129,
   "metadata": {},
   "outputs": [],
   "source": [
    "import json \n",
    "import random\n",
    "import datetime\n",
    "import numpy as np\n",
    "\n",
    "from difflib import SequenceMatcher\n",
    "\n",
    "def load_json(filename):\n",
    "    with open(filename, \"r\", encoding=\"utf-8\") as f:\n",
    "        return json.load(f)\n",
    "    \n",
    "def save_json(filename, obj):\n",
    "    with open(filename, \"w+\", encoding=\"utf-8\") as f:\n",
    "        return json.dump(obj, f, ensure_ascii=False, indent=4) \n",
    "    \n",
    "def load_file(filename):\n",
    "    return list(open(filename, encoding=\"utf-8\").readlines())"
   ]
  },
  {
   "cell_type": "code",
   "execution_count": 130,
   "metadata": {},
   "outputs": [],
   "source": [
    "# Load current event list\n",
    "\n",
    "tut = load_json(\"C:\\\\Projects\\\\Research\\\\Events\\\\data\\\\event_data\\\\raw_data\\\\2020_5_8_0\\\\tutby.json\")\n",
    "cd = load_json(\"C:\\\\Projects\\\\Research\\\\Events\\\\data\\\\event_data\\\\raw_data\\\\2020_5_8_0\\\\citydog.json\")\n",
    "relax = load_json(\"C:\\\\Projects\\\\Research\\\\Events\\\\data\\\\event_data\\\\raw_data\\\\2020_5_8_0\\\\relax.json\")\n",
    "\n",
    "current_events = []\n",
    "current_events.extend(tut)\n",
    "current_events.extend(cd)\n",
    "current_events.extend(relax)"
   ]
  },
  {
   "cell_type": "code",
   "execution_count": 131,
   "metadata": {},
   "outputs": [],
   "source": [
    "old_events = load_json(\"C:\\\\Projects\\\\Research\\\\Events\\\\data\\\\event_data\\\\raw_data\\\\old_events.json\")\n",
    "old_events.extend(load_json(\"C:\\\\Projects\\\\Research\\\\Events\\\\data\\\\event_data\\\\raw_data\\\\relax.json\"))\n",
    "old_events.extend(load_json(\"C:\\\\Projects\\\\Research\\\\Events\\\\data\\\\event_data\\\\raw_data\\\\tutby.json\"))\n",
    "old_events.extend(load_json(\"C:\\\\Projects\\\\Research\\\\Events\\\\data\\\\event_data\\\\raw_data\\\\citydog.json\"))"
   ]
  },
  {
   "cell_type": "code",
   "execution_count": 132,
   "metadata": {},
   "outputs": [],
   "source": [
    "def similar(a, b):\n",
    "    return SequenceMatcher(None, a, b).ratio()\n",
    "\n",
    "def get_place_name(event):\n",
    "    if 'place' not in event:\n",
    "        return None\n",
    "    if 'name' not in event['place']:\n",
    "        return None\n",
    "    return event['place']['name']\n",
    "\n",
    "def remove_duplicated(evs):\n",
    "    removed_idx = set()\n",
    "    unique_events = []\n",
    "    for i, current_event in enumerate(evs):\n",
    "        if i in removed_idx:\n",
    "            continue\n",
    "            \n",
    "        duplicates = [current_event]\n",
    "        for j, event in enumerate(evs[i + 1:]):\n",
    "            j += (i + 1)\n",
    "            if j in removed_idx:\n",
    "                continue\n",
    "            res = similar(current_event['title'] + \" \" + current_event['description'], event['title'] + \" \" + event['description'])\n",
    "            if res > 0.55:\n",
    "                duplicates.append(event)\n",
    "                removed_idx.add(j)\n",
    "            elif get_place_name(current_event) == get_place_name(event):\n",
    "                res = similar(current_event['title'], event['title'])\n",
    "                if res > 0.7:\n",
    "                    duplicates.append(event)\n",
    "                    removed_idx.add(j)\n",
    "                \n",
    "        unique_event = max(duplicates, key=lambda e: len(e['title'] + e['description']))\n",
    "        unique_events.append(unique_event)\n",
    "        \n",
    "    return unique_events\n",
    "\n",
    "def group_by_dates(events):\n",
    "    events_by_dates = {}\n",
    "    for event in events:\n",
    "        date = event['dates'][0]\n",
    "        if 'start' in date:\n",
    "            date = date['start']\n",
    "        if date:\n",
    "            if \"hour\" in date:\n",
    "                dt = datetime.datetime(year=date['year'], month=date['month'], day=date['day'], hour=date['hour'], minute=date['minute'])\n",
    "            else:\n",
    "                dt = datetime.date(year=date['year'], month=date['month'], day=date['day'])\n",
    "        else:\n",
    "            dt = datetime.date(year=datetime.MINYEAR, month=1, day=1)\n",
    "\n",
    "        if dt not in events_by_dates:\n",
    "            events_by_dates[dt] = []\n",
    "        events_by_dates[dt].append(event)\n",
    "    return events_by_dates\n",
    "\n",
    "def remove_duplicated_events(events):\n",
    "    events_by_dates = group_by_dates(events)\n",
    "    filtered_events = []\n",
    "    for dt, grouped_events in events_by_dates.items():\n",
    "        initial_len = len(grouped_events)\n",
    "        if initial_len > 1:\n",
    "            grouped_events = remove_duplicated(grouped_events)\n",
    "        filtered_events.extend(grouped_events)\n",
    "    return filtered_events"
   ]
  },
  {
   "cell_type": "code",
   "execution_count": 133,
   "metadata": {},
   "outputs": [],
   "source": [
    "filtered_events = remove_duplicated_events(current_events)"
   ]
  },
  {
   "cell_type": "code",
   "execution_count": 134,
   "metadata": {},
   "outputs": [
    {
     "name": "stdout",
     "output_type": "stream",
     "text": [
      "Original size: 862\n",
      "Filtered size: 717\n"
     ]
    }
   ],
   "source": [
    "print(\"Original size: %d\" % len(current_events))\n",
    "print(\"Filtered size: %d\" % len(filtered_events))"
   ]
  },
  {
   "cell_type": "code",
   "execution_count": 135,
   "metadata": {},
   "outputs": [
    {
     "name": "stdout",
     "output_type": "stream",
     "text": [
      "Original size: 3928\n",
      "Filtered size: 2495\n"
     ]
    }
   ],
   "source": [
    "# Adding old set of events\n",
    "filtered_events += old_events\n",
    "print(\"Original size: %d\" % len(filtered_events))\n",
    "filtered_events = remove_duplicated_events(filtered_events)\n",
    "print(\"Filtered size: %d\" % len(filtered_events))"
   ]
  },
  {
   "cell_type": "code",
   "execution_count": 137,
   "metadata": {},
   "outputs": [],
   "source": [
    "# Save results\n",
    "save_json(\"C:\\\\Projects\\\\Research\\\\Events\\\\data\\\\event_data\\\\raw_data\\\\2020_5_8_0\\\\events.json\", filtered_events)"
   ]
  },
  {
   "cell_type": "markdown",
   "metadata": {},
   "source": [
    "# Remove global duplicates (for training)"
   ]
  },
  {
   "cell_type": "code",
   "execution_count": 225,
   "metadata": {},
   "outputs": [],
   "source": [
    "import urlextract\n",
    "import re\n",
    "import math\n",
    "\n",
    "from nltk.tokenize import sent_tokenize, word_tokenize\n",
    "from nltk.stem import PorterStemmer\n",
    "from nltk.corpus import stopwords\n",
    "from collections import Counter\n",
    "\n",
    "class TextPreprocessor:\n",
    "    def __init__(self):\n",
    "        self.stemmer = PorterStemmer()\n",
    "        self.url_extractor = urlextract.URLExtract()\n",
    "        self.tag_regex = re.compile(r\"<[^>]*>\")\n",
    "        self.email_regex = re.compile(r\"[^\\s]+@[^\\s]+\")\n",
    "        self.number_regex = re.compile(r'\\d+(?:\\.\\d*(?:[eE]\\d+))?')\n",
    "        self.dollar_regex = re.compile(r\"[$]+\")\n",
    "        self.spaces_regex = re.compile(r\"\\s+\")\n",
    "        self.special_chars = [\n",
    "            \"<\", \"[\", \"^\", \">\", \"+\", \"?\", \"!\", \"'\", \".\", \",\", \":\",\n",
    "            \"*\", \"%\", \"#\", \"_\", \"=\", \"-\", \"&\", '/', '\\\\', '(', ')', \";\", \"\\\"\", \"«\", \"»\", \"|\", \"•\", \"—\", \"–\", \"●\", \"►\", \"\\n\"\n",
    "        ]\n",
    "        self.stop_words = set(stopwords.words('russian'))\n",
    "\n",
    "    def preprocess_text(self, text):\n",
    "        text = text.lower()\n",
    "        text = self.remove_html_tags(text)\n",
    "        text = self.replace_urls(text)\n",
    "        text = self.replace_emails(text)\n",
    "        text = self.replace_numbers(text)\n",
    "        text = self.replace_dollar_signs(text)\n",
    "        text = self.remove_special_characters(text)\n",
    "        text = self.remove_stop_words(text)\n",
    "        text = self.spaces_regex.sub(' ', text)\n",
    "        return text.strip()\n",
    "\n",
    "    def remove_html_tags(self, text):\n",
    "        text = self.tag_regex.sub(\" \", text).split(\" \")\n",
    "        text = filter(len, text)\n",
    "        text = ' '.join(text)\n",
    "        return text\n",
    "\n",
    "    def replace_urls(self, text):\n",
    "        urls = list(set(self.url_extractor.find_urls(text)))\n",
    "        urls.sort(key=lambda u: len(u), reverse=True)\n",
    "        for url in urls:\n",
    "            text = text.replace(url, \" httpaddr \")\n",
    "        return text\n",
    "\n",
    "    def replace_emails(self, text):\n",
    "        return self.email_regex.sub(\" emailaddr \", text)\n",
    "    \n",
    "    def replace_numbers(self, text):\n",
    "        return self.number_regex.sub(\" number \", text)\n",
    "\n",
    "    def replace_dollar_signs(self, text):\n",
    "        return self.dollar_regex.sub(\" dollar \", text)\n",
    "\n",
    "    def remove_special_characters(self, text):\n",
    "        for char in self.special_chars:\n",
    "            text = text.replace(str(char), \" \")\n",
    "        return text\n",
    "    \n",
    "    def remove_stop_words(self, text):\n",
    "        for word in self.stop_words:\n",
    "            text = text.replace(\" %s \" % word, \" \")\n",
    "        return text\n",
    "\n",
    "preprocessor = TextPreprocessor()\n",
    "def tokenize(text):\n",
    "    text = preprocessor.preprocess_text(text)\n",
    "    return [t.lower() for t in word_tokenize(text)]\n",
    "\n",
    "def calculate_tf_idf(documents):\n",
    "    words_freqs = []\n",
    "    for i, document in enumerate(documents):\n",
    "        words_freqs.append({})\n",
    "        token_counts = Counter(tokenize(document))\n",
    "        total = sum([c for (w, c) in token_counts.items()])\n",
    "        for token, count in token_counts.items():\n",
    "            words_freqs[-1][token] = count / total\n",
    "\n",
    "    words_idf = []\n",
    "    for i, document in enumerate(documents):\n",
    "        words_idf.append({})\n",
    "        freqs = words_freqs[i]\n",
    "        for token, freq in freqs.items():\n",
    "            docs_with_token = len([doc for j, doc in enumerate(documents) if token in words_freqs[j]])\n",
    "            idf = math.log(len(documents) / docs_with_token)\n",
    "            words_idf[-1][token] = freq * idf\n",
    "    return words_idf\n",
    "\n",
    "def get_top(i, k):\n",
    "    return [w for w, c in sorted(words_idf[i].items(), key=lambda p:[1], reverse=True)[:k]]"
   ]
  },
  {
   "cell_type": "code",
   "execution_count": 226,
   "metadata": {},
   "outputs": [],
   "source": [
    "documents = [e['title'].strip() + \"\\n\" + e['description'].strip() for e in filtered_events]\n",
    "words_idf = calculate_tf_idf(documents)"
   ]
  },
  {
   "cell_type": "code",
   "execution_count": 232,
   "metadata": {},
   "outputs": [],
   "source": [
    "k = 5\n",
    "idx_to_remove = set()\n",
    "global_filtered_events = []\n",
    "\n",
    "for i in range(len(documents)):\n",
    "    if i in idx_to_remove:\n",
    "        continue\n",
    "    duplicates = [i]\n",
    "    i_set = set(get_top(i, k))\n",
    "    for j in range(i + 1, len(documents)):\n",
    "        j_set = set(get_top(j, k))\n",
    "        rate = len(list(j_set & i_set)) / k\n",
    "        if rate >= 0.75:\n",
    "            idx_to_remove.add(j)\n",
    "            duplicates.append(j)\n",
    "    unique_event_id = max(duplicates, key=lambda event_id: len(filtered_events[event_id]['tags']))\n",
    "    global_filtered_events.append(filtered_events[unique_event_id])"
   ]
  },
  {
   "cell_type": "code",
   "execution_count": 233,
   "metadata": {},
   "outputs": [
    {
     "data": {
      "text/plain": [
       "1975"
      ]
     },
     "execution_count": 233,
     "metadata": {},
     "output_type": "execute_result"
    }
   ],
   "source": [
    "len(global_filtered_events)"
   ]
  },
  {
   "cell_type": "code",
   "execution_count": 230,
   "metadata": {},
   "outputs": [],
   "source": [
    "save_json(\"C:\\\\Projects\\\\Research\\\\Events\\\\data\\\\event_data\\\\raw_data\\\\2020_5_8_0\\\\events_reduced.json\", global_filtered_events)"
   ]
  },
  {
   "cell_type": "markdown",
   "metadata": {},
   "source": [
    "# Debug"
   ]
  },
  {
   "cell_type": "code",
   "execution_count": null,
   "metadata": {},
   "outputs": [],
   "source": [
    "grouped = group_by_dates(filtered_events)"
   ]
  },
  {
   "cell_type": "code",
   "execution_count": null,
   "metadata": {},
   "outputs": [],
   "source": [
    "may = grouped[datetime.datetime(2020, 10, 23, 19, 0)]"
   ]
  },
  {
   "cell_type": "code",
   "execution_count": null,
   "metadata": {},
   "outputs": [],
   "source": [
    "[e['title'] for e in may]"
   ]
  },
  {
   "cell_type": "code",
   "execution_count": 150,
   "metadata": {},
   "outputs": [
    {
     "data": {
      "text/plain": [
       "{'title': 'Stand Up: Павел Воля',\n",
       " 'short_description': '',\n",
       " 'description': 'Павел Воля - один из самых дерзких резидентов Comedy Club на ТНТ - везет в Минск новую stand-up программу!\\nВы – любитель интеллектуального юмора? Желаете от души повеселиться? Встречайте! Дерзкий и харизматичный комик, мегапопулярный стендапер, острослов и эрудит Павел Воля выступит с новой концертной программой перед зрителями столицы!\\xa0\\nЗрителей ждет вечер интеллектуального юмора, талантливых импровизаций и невыдуманных жизненных историй!\\nЗа 12 лет работы на телеканале ТНТ Павел Воля сумел влюбить в себя многомиллионную аудиторию телезрителей, которая с удовольствием\\nего сольные выступления. Сегодня без смелых монологов на самые злободневные темы, приправленных иронией и остроумными шутками, уже невозможно себе представить эту передачу.\\nНа сегодняшний день шоумен, телеведущий, актер и музыкант Павел Воля — один из лучших российских комиков, работающих в жанре стенд-ап. Большой stand-up концерт – это яркий калейдоскоп, сочетающий импровизации, уморительные шутки, невыдуманные истории из жизни в уникальном и неподражаемом исполнении. Имя Павла Воли уже давно стало синонимом отменного и легкого юмора, актуального для всех возрастных поколений.\\nНа концерте\\xa028 мая во Дворце Республики\\xa0(Октябрьская пл.,1) в 19:00, вы услышите новые монологи на самые важные темы, волнующие современное общество, и, конечно же, шутки, приправленные крепким словцом. Именно вы услышите новую программу!\\nНа концертах Павла Воли все счастливы, потому что только счастливый человек может шутить над тем, что его окружает!\\nЖивой звук, 18+\\n ',\n",
       " 'poster': 'https://static.relax.by/images/common/afisha/logos/773562894931ff51883a85ba3d6e9681.png',\n",
       " 'url': 'https://afisha.relax.by/conserts/10512033-koncert-pavla-voli-bolyshoj-stand-up/minsk/',\n",
       " 'place': {'name': 'Дворец Республики',\n",
       "  'address': 'г. Минск, пл. Октябрьская, 1',\n",
       "  'url': 'https://afisha.relax.by/place/id/6248/'},\n",
       " 'tags': ['Юмор', 'Концерт'],\n",
       " 'age': '18+',\n",
       " 'registration': None,\n",
       " 'info': None,\n",
       " 'cost': '64,00 — 299,00 руб.',\n",
       " 'dates': [{'year': 2020, 'month': 5, 'day': 28, 'hour': 19, 'minute': 0}],\n",
       " 'raw_dates': ['чт, 28 мая в 19:00']}"
      ]
     },
     "execution_count": 150,
     "metadata": {},
     "output_type": "execute_result"
    }
   ],
   "source": [
    "may[-2]"
   ]
  },
  {
   "cell_type": "code",
   "execution_count": 147,
   "metadata": {},
   "outputs": [
    {
     "data": {
      "text/plain": [
       "0.18588151826888968"
      ]
     },
     "execution_count": 147,
     "metadata": {},
     "output_type": "execute_result"
    }
   ],
   "source": [
    "similar(may[2]['title'] + \" \" + may[2]['description'], may[-2]['title'] + \" \" + may[-2]['description'])"
   ]
  },
  {
   "cell_type": "code",
   "execution_count": 149,
   "metadata": {},
   "outputs": [
    {
     "data": {
      "text/plain": [
       "0.18411552346570398"
      ]
     },
     "execution_count": 149,
     "metadata": {},
     "output_type": "execute_result"
    }
   ],
   "source": [
    "similar(may[2]['description'] , may[-2]['description'])"
   ]
  },
  {
   "cell_type": "code",
   "execution_count": 122,
   "metadata": {},
   "outputs": [
    {
     "data": {
      "text/plain": [
       "{'title': 'Zoloto / Золото (ПЕРЕНОС)',\n",
       " 'short_description': '',\n",
       " 'description': 'ПЕРЕНОС концерта на 17.10.2020 г.\\nВремя и место проведения мероприятия остаются прежними.\\nБилеты действительны.\\nВладимир Золотухин о своем проекте \"Творчество в моем случае - это некая психологическая терапия. Мне повезло, возможно, больше других в том плане, что у меня есть какие-то музыкальные навыки и я учусь прислушиваться к себе. У меня очень много вопросов к себе и окружающему меня миру. И творчество - это такая штука где я создаю определенный мир, в котором я могу на эти вопросы ответить. Мои представления о мире я могу выразить музыкой\".\\nБилет: 25 руб.',\n",
       " 'poster': 'https://img.afisha.tut.by/static/media/340x0s/cover/01/3/zoloto-zoloto-perenos-321150.jpg',\n",
       " 'url': 'https://afisha.tut.by/concert/zoloto-zoloto/',\n",
       " 'place': {'name': 'Корпус',\n",
       "  'address': 'г. Минск, пр-т Машерова, 9/8',\n",
       "  'url': 'https://afisha.tut.by/place/korpus-by/'},\n",
       " 'tags': ['Концерт'],\n",
       " 'age': None,\n",
       " 'registration': None,\n",
       " 'info': None,\n",
       " 'cost': None,\n",
       " 'dates': [{'year': 2020, 'month': 5, 'day': 14, 'hour': 19, 'minute': 0},\n",
       "  {'year': 2020, 'month': 10, 'day': 17, 'hour': 19, 'minute': 0}],\n",
       " 'raw_dates': ['14 мая в 19:00', '17 октября в 19:00']}"
      ]
     },
     "execution_count": 122,
     "metadata": {},
     "output_type": "execute_result"
    }
   ],
   "source": [
    "may[2] "
   ]
  },
  {
   "cell_type": "code",
   "execution_count": 123,
   "metadata": {},
   "outputs": [
    {
     "data": {
      "text/plain": [
       "{'title': 'Zoloto / Золото',\n",
       " 'short_description': '',\n",
       " 'description': 'О событии\\nВладимир Золотухин о своем проекте \"Творчество в моем случае - это некая психологическая терапия. Мне повезло, возможно, больше других в том плане, что у меня есть какие-то музыкальные навыки и я учусь прислушиваться к себе. У меня очень много вопросов к себе и окружающему меня миру. И творчество - это такая штука где я создаю определенный мир, в котором я могу на эти вопросы ответить. Мои представления о мире я могу выразить музыкой\".\\nБилет: 25 руб.',\n",
       " 'poster': 'https://img.afisha.tut.by/static/media/340x0s/cover/08/b/zoloto-zoloto-509102.jpg',\n",
       " 'url': 'https://afisha.tut.by/concert/zoloto-zoloto/',\n",
       " 'place': {'name': 'Корпус',\n",
       "  'address': 'г. Минск, пр-т Машерова, 9/8',\n",
       "  'url': 'https://afisha.tut.by/place/korpus-by/'},\n",
       " 'tags': ['Концерт'],\n",
       " 'age': None,\n",
       " 'registration': None,\n",
       " 'info': None,\n",
       " 'cost': None,\n",
       " 'dates': [{'year': 2020, 'month': 5, 'day': 14, 'hour': 19, 'minute': 0}]}"
      ]
     },
     "execution_count": 123,
     "metadata": {},
     "output_type": "execute_result"
    }
   ],
   "source": [
    "may[-2]"
   ]
  },
  {
   "cell_type": "markdown",
   "metadata": {},
   "source": [
    "# Not working"
   ]
  },
  {
   "cell_type": "code",
   "execution_count": 152,
   "metadata": {},
   "outputs": [],
   "source": [
    "pair = [\n",
    "    {\n",
    "        'title': 'Павел Воля Большой Stand-Up',\n",
    "        'short_description': '',\n",
    "        'description': 'О событии\\nПавел Воля даст концерт в Минске с новой stand-up программой!\\nПАВЕЛ ВОЛЯ - один из самых дерзких резидентов Comedy Club на ТНТ - везет в Минск \\nновую stand-up программу\\n!!!!\\nВстречайте! Дерзкий и харизматичный комик, мегапопулярный стендапер, острослов и эрудит Павел Воля выступит с новой концертной программой перед зрителями столицы! \\nЗрителей ждет вечер интеллектуального юмора, талантливых импровизаций и невыдуманных жизненных историй!\\nНа сегодняшний день шоумен, телеведущий, актер и музыкант Павел Воля — один из лучших российских комиков, работающих в жанре стенд-ап. Его концерты по всему миру неизменно проходят с аншлагами, а билеты на них раскупаются в первые дни продаж.\\nНа его выступлениях вы никогда не услышите пошлых и избитых шуток, ведь Павел Воля сам задает тренд в юморе. Павел – первый, кто открывает людям новые шутки и новые тенденции в юморе. То, над чем он пошутил уже сегодня, другие заметят лишь завтра.\\nНа концерте\\n 28 мая во Дворце Республике в 19:00\\n, вы услышите новые монологи на самые важные темы, волнующие современное общество, и, конечно же, шутки, приправленные крепким словцом. \\n18 +, Живой звук\\nСтоимость билетов: от 60 до 295 рублей\\nСправки по телефону: +375 29 696-44-24\\n\\xa0\\nФото и видео',\n",
    "        'poster': 'https://img.afisha.tut.by/static/media/340x0s/cover/05/7/pavel-volya-bolshoy-stand-up-3224459.jpg',\n",
    "        'url': 'https://afisha.tut.by/concert/pavel_volya_bolshoy_stand_up/',\n",
    "        'place': {'name': 'Дворец Республики', 'address': 'г. Минск, пл. Октябрьская, 1', 'url': 'https://afisha.tut.by/place/dvorets-respubliki/'},'tags': ['Концерт', 'Юмор'],\n",
    "        'age': '18+',\n",
    "        'registration': None,\n",
    "        'info': None,\n",
    "        'cost': None,\n",
    "        'dates': [{'year': 2020, 'month': 5, 'day': 28, 'hour': 19, 'minute': 0}]\n",
    "    },\n",
    "    {\n",
    "        'title': 'Stand Up: Павел Воля',\n",
    "        'short_description': '',\n",
    "        'description': 'Павел Воля - один из самых дерзких резидентов Comedy Club на ТНТ - везет в Минск новую stand-up программу!\\nВы – любитель интеллектуального юмора? Желаете от души повеселиться? Встречайте! Дерзкий и харизматичный комик, мегапопулярный стендапер, острослов и эрудит Павел Воля выступит с новой концертной программой перед зрителями столицы!\\xa0\\nЗрителей ждет вечер интеллектуального юмора, талантливых импровизаций и невыдуманных жизненных историй!\\nЗа 12 лет работы на телеканале ТНТ Павел Воля сумел влюбить в себя многомиллионную аудиторию телезрителей, которая с удовольствием\\nего сольные выступления. Сегодня без смелых монологов на самые злободневные темы, приправленных иронией и остроумными шутками, уже невозможно себе представить эту передачу.\\nНа сегодняшний день шоумен, телеведущий, актер и музыкант Павел Воля — один из лучших российских комиков, работающих в жанре стенд-ап. Большой stand-up концерт – это яркий калейдоскоп, сочетающий импровизации, уморительные шутки, невыдуманные истории из жизни в уникальном и неподражаемом исполнении. Имя Павла Воли уже давно стало синонимом отменного и легкого юмора, актуального для всех возрастных поколений.\\nНа концерте\\xa028 мая во Дворце Республики\\xa0(Октябрьская пл.,1) в 19:00, вы услышите новые монологи на самые важные темы, волнующие современное общество, и, конечно же, шутки, приправленные крепким словцом. Именно вы услышите новую программу!\\nНа концертах Павла Воли все счастливы, потому что только счастливый человек может шутить над тем, что его окружает!\\nЖивой звук, 18+\\n ',\n",
    "        'poster': 'https://static.relax.by/images/common/afisha/logos/773562894931ff51883a85ba3d6e9681.png',\n",
    "        'url': 'https://afisha.relax.by/conserts/10512033-koncert-pavla-voli-bolyshoj-stand-up/minsk/',\n",
    "        'place': {'name': 'Дворец Республики', 'address': 'г. Минск, пл. Октябрьская, 1', 'url': 'https://afisha.relax.by/place/id/6248/'},\n",
    "        'tags': ['Юмор', 'Концерт'],\n",
    "        'age': '18+',\n",
    "        'registration': None,\n",
    "        'info': None,\n",
    "        'cost': '64,00 — 299,00 руб.',\n",
    "        'dates': [{'year': 2020, 'month': 5, 'day': 28, 'hour': 19, 'minute': 0}],\n",
    "        'raw_dates': ['чт, 28 мая в 19:00']\n",
    "    }\n",
    "]"
   ]
  },
  {
   "cell_type": "code",
   "execution_count": null,
   "metadata": {},
   "outputs": [],
   "source": [
    "# Deathstars\n",
    "# Разное время начала (разница час)\n",
    "\n",
    "# PLC\n",
    "# Короткое описание и длинное описание"
   ]
  },
  {
   "cell_type": "code",
   "execution_count": null,
   "metadata": {},
   "outputs": [],
   "source": [
    "pair = [\n",
    "        {\n",
    "        \"title\": \"Хелависа\",\n",
    "        \"short_description\": \"\",\n",
    "        \"description\": \"Концерт группы Хелвиса (Мельница) ПЕРЕНОС на 18 ноября. БИЛЕТЫ ДЕЙСТВИТЕЛЬНЫ!\\nЛидер группы “Мельница” представит в Минске сольную программу\\nНаталья “Хелависа” О`Шей – фронтмен фолк-рок группы “Мельница”, хорошо знакомой большинству беларусов. Композитор, поэт и очаровательной красоты девушка занимается музыкой уже четверть века, в своем творчестве обращаясь к окружающему миру и вдохновляясь стихами классиков. Весной Хелависа приедет в Минск с новой концертной программой.\\nСольные концерты Хелависы - нечастое событие. Лидер группы «Мельница» решила отметить десятилетие с выхода своего первого сольного альбома, «Леопард в городе». Этой весной Леопард возвращается в города, путешествует на планету Люцифераза и проходит бесшумными лапами по акустическим хитам «Мельницы». На сцене Хелависе ассистирует, как всегда, Сергей Вишняков.\\nклуб «Re:public», 19:00\\nБилеты от 45 руб.\\nИнфолиния: +375445517706, +375298517706\",\n",
    "        \"poster\": \"https://img.afisha.tut.by/static/media/340x0s/cover/0f/1/khelavisa-5318063-4984176.jpg\",\n",
    "        \"url\": \"https://afisha.tut.by/concert/khelavisa/\",\n",
    "        \"place\": {\n",
    "            \"name\": \"Re:Public\",\n",
    "            \"address\": \"г. Минск, ул. Притыцкого, 62\",\n",
    "            \"url\": \"https://afisha.tut.by/place/re-public/\"\n",
    "        },\n",
    "        \"tags\": [\n",
    "            \"Концерт\"\n",
    "        ],\n",
    "        \"age\": None,\n",
    "        \"registration\": None,\n",
    "        \"info\": None,\n",
    "        \"cost\": None,\n",
    "        \"dates\": [\n",
    "            {\n",
    "                \"year\": 2020,\n",
    "                \"month\": 11,\n",
    "                \"day\": 18,\n",
    "                \"hour\": 19,\n",
    "                \"minute\": 0\n",
    "            }\n",
    "        ],\n",
    "        \"raw_dates\": [\n",
    "            \"18 ноября в 19:00\"\n",
    "        ]\n",
    "    },\n",
    "    {\n",
    "        \"title\": \"Хелависа — ПЕРЕНОС\",\n",
    "        \"short_description\": \"\",\n",
    "        \"description\": \"Концерт перенесен на 18.11.2020г.\\nК нашему сожалению, заявленный в Минске концерт \\\"Хелависы\\\" придётся перенести на более поздний срок. \\nНовая дата - 18 ноября \\nТакое решение далось непросто и организаторам, и музыкантам. \\nЭто не отмена, это — перенос. Причина - форс-мажор, из-за пандемии коронавируса. \\nВсе билеты, купленные вами на концерт 12 апреля, будут действительны. \\nМы не хотим рисковать вашим здоровьем и жизнями, собирая тысячи человек в закрытом помещении, когда существует хотя бы 1 шанс из 100, что на концерте окажется кто-то из уже заболевших — и потенциально заразный для вас и ваших близких. \\nВ это нелёгкое для всех нас время мы вынуждены просить вас о понимании и поддержке. Это очень важно для нас, для артистов и для концертной отрасли в целом. Мы не отменяем мероприятие, концерт пройдет 18 ноября. \\nЕсли кто-то из вас решит вернуть билет, по всем вопросам возврата билетов можно будет обратиться после 5 апреля. Тел. +375 29 687-60-68. До этого времени офис организатора концерта закрыт в соответствии с рекомендациями Минздрава Республики Беларусь. \\nБез паники, друзья! Берегите себя!\\n \\n \\nНаталья «Хелависа» О`Шей – фронтмен фолк-рок группы «Мельница», хорошо знакомой большинству беларусов. Композитор, поэт и очаровательной красоты девушка занимается музыкой уже четверть века, в своем творчестве обращаясь к окружающему миру и вдохновляясь стихами классиков. Весной Хелависа приедет в Минск с новой концертной программой.\\nСольные концерты Хелависы - нечастое событие. Лидер группы «Мельница» решила отметить десятилетие с выхода своего первого сольного альбома, «Леопард в городе». Этой весной Леопард возвращается в города, путешествует на планету Люцифераза и проходит бесшумными лапами по акустическим хитам «Мельницы». На сцене Хелависе ассистирует, как всегда, Сергей Вишняков.\\n \",\n",
    "        \"poster\": \"https://static.relax.by/images/common/afisha/logos/e6553dd05eddcfaf533a1d052ac427a4.png\",\n",
    "        \"url\": \"https://afisha.relax.by/conserts/10929473-helavisa/minsk/\",\n",
    "        \"place\": {\n",
    "            \"name\": \"Re:Public\",\n",
    "            \"address\": \"г. Минск, ул. Притыцкого, 62\",\n",
    "            \"url\": \"https://afisha.relax.by/place/id/1039583/\"\n",
    "        },\n",
    "        \"tags\": [\n",
    "            \"Рок\",\n",
    "            \"Фолк\",\n",
    "            \"Концерт\"\n",
    "        ],\n",
    "        \"age\": \"6+\",\n",
    "        \"registration\": None,\n",
    "        \"info\": None,\n",
    "        \"cost\": \"48,00 — 68,00 руб.\",\n",
    "        \"dates\": [\n",
    "            {\n",
    "                \"year\": 2020,\n",
    "                \"month\": 11,\n",
    "                \"day\": 18,\n",
    "                \"hour\": 19,\n",
    "                \"minute\": 0\n",
    "            }\n",
    "        ],\n",
    "        \"raw_dates\": [\n",
    "            \"ср, 18 ноября в 19:00\"\n",
    "        ]\n",
    "    }\n",
    "]"
   ]
  },
  {
   "cell_type": "code",
   "execution_count": null,
   "metadata": {},
   "outputs": [],
   "source": [
    "pair = [\n",
    "        {\n",
    "        \"title\": \"Мари Краймбрери\",\n",
    "        \"short_description\": \"\",\n",
    "        \"description\": \"О событии\\nМари Краймбрери \\n— стопроцентный selfmade-артист нового поколения! Несколько лет существуя исключительно в интернет-пространстве, в 2017-ом артистка зазвучала в эфирах федеральных радиостанций и телеканалов и теперь уверенно обосновывается на большой сцене!\\nБилеты: 39,00 - 119,00 руб.\\nФото и видео\",\n",
    "        \"poster\": \"https://img.afisha.tut.by/static/media/340x0s/cover/10/6/mari-kraymbreri-437848.jpg\",\n",
    "        \"url\": \"https://afisha.tut.by/concert/mari-kraymbreri/\",\n",
    "        \"place\": {\n",
    "            \"name\": \"Prime Hall\",\n",
    "            \"address\": \"г. Минск, пр-т Победителей, 65\",\n",
    "            \"url\": \"https://afisha.tut.by/place/prime-hall/\"\n",
    "        },\n",
    "        \"tags\": [\n",
    "            \"Концерт\",\n",
    "            \"Поп\"\n",
    "        ],\n",
    "        \"age\": \"16+\",\n",
    "        \"registration\": None,\n",
    "        \"info\": None,\n",
    "        \"cost\": None,\n",
    "        \"dates\": [\n",
    "            {\n",
    "                \"year\": 2020,\n",
    "                \"month\": 12,\n",
    "                \"day\": 12,\n",
    "                \"hour\": 19,\n",
    "                \"minute\": 0\n",
    "            }\n",
    "        ]\n",
    "    },\n",
    "    {\n",
    "        \"title\": \"Мари Краймбрери\",\n",
    "        \"short_description\": \"\",\n",
    "        \"description\": \"Большой сольный концерт Мари Краймбрери в Прайм Холл.\\nПрезентация нового альбома + все хиты!\\nvk.com\\n@boulevard_concert\\nЛучшая исполнительница 2019 г.\\n№1, по мнению подписчиков сообщества «Русская Музыка» \\nНа днях TopHit подвёл итоги 2019-го года, благодаря которым:\\n- В номинации «Радио взлёт года» Мари Краймбрери поднялась на 61 позицию, заняв второе место в ушедшем году!\\n- Работа «AMORE» в номинации «Женский вокал» заняла 4 место, собрав более 450 000 эфиров на радио!\\n- Москва, Adrenaline Stadium - #SOLDOUT\\n- Санкт-Петербург, A2 Green Concert - #SOLDOUT\\n- Победа в номинации «Лучший альбом» («Переобулась») на премии «ЖАРА MUSIC AWARDS 2019»\\n- Победа в номинации «Лучшая песня» («На тату») на премии «ЖАРА MUSIC AWARDS 2019»\\n- Более 1 млн. прослушиваний треков ВКонтакте.\\n- Более 30 млн. просмотров роликов на YouTube.\\n \",\n",
    "        \"poster\": \"https://static.relax.by/images/common/afisha/logos/de0445d8cf3c2acf6169862508124f64.png\",\n",
    "        \"url\": \"https://afisha.relax.by/conserts/10900113-bolyshoj-solynyj-koncert-mari-krajmbreri/minsk/\",\n",
    "        \"place\": {\n",
    "            \"name\": \"PRIME HALL\",\n",
    "            \"address\": \"г. Минск, пр-т Победителей, 65\",\n",
    "            \"url\": \"https://afisha.relax.by/place/id/10340894/\"\n",
    "        },\n",
    "        \"tags\": [\n",
    "            \"Рэп\",\n",
    "            \"Поп\",\n",
    "            \"Концерт\"\n",
    "        ],\n",
    "        \"age\": None,\n",
    "        \"registration\": None,\n",
    "        \"info\": None,\n",
    "        \"cost\": \"39,00 — 119,00 руб.\",\n",
    "        \"dates\": [\n",
    "            {\n",
    "                \"year\": 2020,\n",
    "                \"month\": 12,\n",
    "                \"day\": 12,\n",
    "                \"hour\": 19,\n",
    "                \"minute\": 0\n",
    "            }\n",
    "        ],\n",
    "        \"raw_dates\": [\n",
    "            \"сб, 12 декабря в 19:00\"\n",
    "        ]\n",
    "    }\n",
    "]"
   ]
  },
  {
   "cell_type": "code",
   "execution_count": null,
   "metadata": {},
   "outputs": [],
   "source": [
    "pair = [\n",
    "    {\n",
    "        \"title\": \"Мастер-класс «Как влиять на мужчину»\",\n",
    "        \"short_description\": \"\",\n",
    "        \"description\": \"Мастер-класс «Как влиять на мужчину»\\nЗанятие в Школе Очарования (для женщин)\\nПодтверждение участия по телефону ОБЯЗАТЕЛЬНО. Количество мест ограничено.\\nТелефоны для записи +375 29 706 40 07, +375 29 507 97 23\\nСсылка на электронную регистрацию:\\nhttps://www.delendik.com/wppage/master-class\\nСТОИМОСТЬ: 30 р.\\t\\nИнтерактивное коучинг-занятие от тренера Елены Делендик. Вы узнаете, какие модели поведения и речевые сценарии улучшат общение с вашим мужчиной и внесут гармонию в отношения. Вас также ждут практические упражнения для закрепления теории и приятные бонусы!\\nВ ПРОГРАММЕ МЕРОПРИЯТИЯ:\\n- Разбор ПОЛЕТОВ в теории, что не так в ваших отношениях?\\n- Секрет правильной просьбы: четыре составляющие!\\n- Благодарность: простые правила и потенциал на будущее!\\n- Как изменить решение мужчины: секрет женского влияния?\\n- Как дать совет, когда не просят?\\n- Примеры из личной и тренерской практики!\\nВстретить свою любовь – это половина дела, еще важнее – понять, как ее сохранить на всю жизнь!\\nЗанятие проводит Елена Делендик – руководитель Школы Очарования, сертифицированный коуч, автор обучающих программ и трансформационных игр, тренер с психолого-педагогическим образованием и шестнадцатилетним опытом преподавания, автор книги «Как женщине оставаться женщиной», кандидат наук, предприниматель. О тренере – http://www.delendik.com.\\nОсновная цель Школы Очарования – обучать женщин создавать долгосрочные счастливые отношения (раз и навсегда).\\nБольшинство наших занятий ориентированы на женщин, которые хотят иметь новый позитивный опыт в отношениях. Результат после обучения – это знание и понимание основ эмоционально здоровых отношений, навыки и умения, необходимые для того, чтобы восстановить доверие, вернуть любовь мужчины и уважение к себе.\",\n",
    "        \"poster\": \"https://img.afisha.tut.by/static/media/340x0s/cover/0f/5/master-klass-kak-vliyat-na-muzhchinu-430949.jpg\",\n",
    "        \"url\": \"https://afisha.tut.by/other/master-klass-kak-vliyat-na-muzhchinu-1/\",\n",
    "        \"place\": {\n",
    "            \"name\": \"Бизнес-центр Время\",\n",
    "            \"address\": \"г. Минск, ул. Могилевская, 39А, офис 221\",\n",
    "            \"url\": \"https://afisha.tut.by/place/invastroy/\"\n",
    "        },\n",
    "        \"tags\": [\n",
    "            \"\",\n",
    "            \"Образовательное\"\n",
    "        ],\n",
    "        \"age\": null,\n",
    "        \"registration\": null,\n",
    "        \"info\": null,\n",
    "        \"cost\": null,\n",
    "        \"dates\": [\n",
    "            {\n",
    "                \"year\": 2020,\n",
    "                \"month\": 6,\n",
    "                \"day\": 25,\n",
    "                \"hour\": 18,\n",
    "                \"minute\": 30\n",
    "            }\n",
    "        ],\n",
    "        \"raw_dates\": [\n",
    "            \"25 июня в 18:30\"\n",
    "        ]\n",
    "    },\n",
    "    {\n",
    "        \"title\": \"Мастер-класс «Как влиять на мужчину»\",\n",
    "        \"short_description\": \"\",\n",
    "        \"description\": \"Интерактивное коучинг-занятие от тренера Елены Делендик. Вы узнаете, какие модели поведения и речевые сценарии помогут улучшить общение с вашим мужчиной и внесут гармонию в ваши отношения. Вас также ждут практические упражнения для закрепления теории и приятные бонусы!\\nВ программе мероприятия:\\n– Разбор полетов в теории, что не так в ваших отношениях?\\n– Секрет правильной просьбы: четыре составляющие!\\n– Благодарность: простые правила и потенциал на будущее!\\n– Как изменить решение мужчины: секрет женского влияния?\\n– Как дать совет, когда не просят?\\n– Примеры из личной и тренерской практики!\\nВстретить свою любовь — это половина дела, еще важнее — понять, как ее сохранить на всю жизнь!\\nЗанятие проводит Елена Делендик – руководитель Школы Очарования, сертифицированный коуч, автор обучающих программ и трансформационных игр, тренер с психолого-педагогическим образованием и шестнадцатилетним опытом преподавания, автор книги «Как женщине оставаться женщиной», кандидат наук, предприниматель.\\nБольшинство наших занятий ориентированы на женщин, которые хотят иметь новый позитивный опыт в отношениях. Результат после обучения – это знание и понимание основ эмоционально здоровых отношений, навыки и умения, необходимые для того, чтобы восстановить доверие, вернуть любовь мужчины и уважение к себе.\\nПодтверждение участия по телефону обязательно. Количество мест ограничено.\\nТелефоны для записи +375 29 706-40-07, +375 29 507-97-23\\nСсылка на электронную регистрацию: \\nwww.delendik.com\\n \",\n",
    "        \"poster\": \"https://static.relax.by/images/common/afisha/logos/fa6975fb9e36458a8a55bc51bf25d519.jpg\",\n",
    "        \"url\": \"https://afisha.relax.by/education/10844663-subbotnij-vecher-kak-vlijaty-na-muzhchinu/minsk/\",\n",
    "        \"place\": {\n",
    "            \"name\": \"Время\",\n",
    "            \"address\": \"г. Минск, ул. Могилевская, 39а\",\n",
    "            \"url\": \"https://afisha.relax.by/place/id/10640713/\"\n",
    "        },\n",
    "        \"tags\": [\n",
    "            \"Мастер-класс\",\n",
    "            \"Образовательное\"\n",
    "        ],\n",
    "        \"age\": null,\n",
    "        \"registration\": \"+375 29 706 40 07 +375 29 507 97 23\",\n",
    "        \"info\": null,\n",
    "        \"cost\": \"30,00 руб.\",\n",
    "        \"dates\": [\n",
    "            {\n",
    "                \"year\": 2020,\n",
    "                \"month\": 6,\n",
    "                \"day\": 25,\n",
    "                \"hour\": 18,\n",
    "                \"minute\": 30\n",
    "            }\n",
    "        ],\n",
    "        \"raw_dates\": [\n",
    "            \"чт, 25 июня в 18:30\"\n",
    "        ]\n",
    "    }\n",
    "]"
   ]
  },
  {
   "cell_type": "code",
   "execution_count": null,
   "metadata": {},
   "outputs": [],
   "source": [
    "pair = [\n",
    "     {\n",
    "        \"title\": \"MGC: Live 2 Fight\",\n",
    "        \"short_description\": \"\",\n",
    "        \"description\": \"Экотехнопарк представляет:\\n29 февраля. День силы. День духа. День жестких поединков и крутых парней.\\nТакое случается реже, чем раз в 4 года.\\nТакого ещё не было в Минске.\\nКикбоксинг!\\nММА!\\nПрофессиональный бокс!\\nЧетверка по правилам прайда!\\n4 вида единоборств в один день, на одной Арене.\\nВ Фэлкон Клаб покажут себя лучшие бойцы Беларуси, Польши, Армении и Азербайджана\\nБой вечера: Максим Сподаренко (Беларусь) против Рамала Асланова (Азербайджан)   \\nИнтрига вечера - бой-реванш: Жора Акопян (Армения) против Рафаля Дудека (Польша)\\nВрубаем адреналин на максимум!  Идем на сильное шоу!\\n \\nP.S.\\nАтмосферу создадут мощные спецэффекты, силовое шоу, жаркий битбокс, изысканные балерины, качающий DJ.\\nВсё решится 29.02.20.    \\nТурнир будет транслироваться в прямом эфире на стриминговой платформе «FITE».\\n \",\n",
    "        \"poster\": \"https://static.relax.by/images/common/afisha/logos/b4b7f3f05f0a1481adce1d4c572b57e0.png\",\n",
    "        \"url\": \"https://afisha.relax.by/sport/10928343-mgc-live-2-fight/minsk/\",\n",
    "        \"place\": {\n",
    "            \"name\": \"Falcon Club Arena\",\n",
    "            \"address\": \"г. Минск, пр-т Победителей, 20\",\n",
    "            \"url\": \"https://afisha.relax.by/place/id/10602525/\"\n",
    "        },\n",
    "        \"tags\": [\n",
    "            \"Спорт\"\n",
    "        ],\n",
    "        \"age\": null,\n",
    "        \"registration\": null,\n",
    "        \"info\": null,\n",
    "        \"cost\": \"45,00 — 200,00 руб.\",\n",
    "        \"dates\": [\n",
    "            {\n",
    "                \"year\": 2020,\n",
    "                \"month\": 2,\n",
    "                \"day\": 29,\n",
    "                \"hour\": 19,\n",
    "                \"minute\": 0\n",
    "            }\n",
    "        ]\n",
    "    },\n",
    "     {\n",
    "        \"title\": \"Бои.MGC: Live 2 Fight\",\n",
    "        \"short_description\": \"\",\n",
    "        \"description\": \"О событии\\nПромоушен MGC представляет вечер боев 29 февраля в Falcon Club Arena\\nМолодой, но очень амбициозный промоушен MGC представляет вашему вниманию турнир с участием сильнейших бойцов Беларуси и Европы.\\nЗдесь не будет поединков спортсменов-велосипедистов и вам не захочется уйти уже после первого раунда. Только элита европейской и белорусской школ единоборств. Старый добрый классический бокс с участием опытных братьев Евгения и Михаила Долголевцов, для которых данный турнир станет дебютом в профессионалах и бесценным опытом на пути к олимпийской медали.\\nПротивостояние одних из сильнейших \\\"кикеров\\\" современности. Лучшего кикбоксера Европы 2018 года по версии WAKO белоруса Максима Сподаренко (73 кг) и чемпиона мира-2019 WAKO, обладателя пяти профессиональных поясов азербайджанца Рамала Асланова. Схватка армянского тигра в весовой категории 73 кг Жоры Акопяна и поляка Рафаэля Дудека. В этом поединке Жора Акопян попробует взять реванш за единственное поражение в профессиональном рейтинге над опытным \\\"файтером\\\" Рафаэлем Дудеком, который долго избегал встречи в ринге с Жорой и не хотел проводить реванш.\\nВ смешанных единоборствах состоится профессиональный дебют в ММА мастера спорта международного класса по греко-римской борьбе, серебряного призера мирового форума Марселя Сычева. Спортсмен попытается доказать превосходство своего стиля и уже заряжен на эффектную викторию.\\nТакже нас ожидает и женское противостояния лучших представительниц своих стран по правилам К1 Александры Ситниковой (Беларусь) и Камиллы Баланды (Польша).\\nИ долгожданный бой лидеров сборной Беларуси - серебряного призера чемпионата мира 2019 года Павла Шелеста против серебряного призера мирового форума-2017 Евгения Мягкова.\\nУкрашением турнира станет четверка боев по правилам Pridе, где сильнейшие мастера разных видов единоборств в тяжелом весе попробуют доказать превосходство своего вида спорта. В 90-х годах такие поединки производили фурор, а позднее канули в лета. Но организаторы, взяв от них все лучшее, представляют бои в обновленном формате.\",\n",
    "        \"poster\": \"https://img.afisha.tut.by/static/media/340x0s/cover/03/7/boi-mgc-live-2-fight-823183-691429.jpg\",\n",
    "        \"url\": \"https://afisha.tut.by/other/boi-mgc-live-2-fight/\",\n",
    "        \"place\": {\n",
    "            \"name\": \"Фалкон Клуб\",\n",
    "            \"address\": \"г. Минск, пр-т Победителей, 20\",\n",
    "            \"url\": \"https://afisha.tut.by/place/falcon-club/\"\n",
    "        },\n",
    "        \"tags\": [\n",
    "            \"Спорт\"\n",
    "        ],\n",
    "        \"age\": null,\n",
    "        \"registration\": null,\n",
    "        \"info\": null,\n",
    "        \"cost\": null,\n",
    "        \"dates\": [\n",
    "            {\n",
    "                \"year\": 2020,\n",
    "                \"month\": 2,\n",
    "                \"day\": 29,\n",
    "                \"hour\": 19,\n",
    "                \"minute\": 0\n",
    "            }\n",
    "        ]\n",
    "    }\n",
    "]"
   ]
  }
 ],
 "metadata": {
  "kernelspec": {
   "display_name": "Python 3",
   "language": "python",
   "name": "python3"
  },
  "language_info": {
   "codemirror_mode": {
    "name": "ipython",
    "version": 3
   },
   "file_extension": ".py",
   "mimetype": "text/x-python",
   "name": "python",
   "nbconvert_exporter": "python",
   "pygments_lexer": "ipython3",
   "version": "3.7.4"
  }
 },
 "nbformat": 4,
 "nbformat_minor": 4
}
