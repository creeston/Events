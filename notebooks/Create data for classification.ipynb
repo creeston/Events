{
 "cells": [
  {
   "cell_type": "code",
   "execution_count": 1,
   "metadata": {},
   "outputs": [],
   "source": [
    "import json\n",
    "\n",
    "def detect_lang(text):\n",
    "    by_letters = ['і', 'ў', 'шч']\n",
    "    for by_letter in by_letters:\n",
    "        if by_letter in text:\n",
    "            return \"by\"\n",
    "    return \"ru\""
   ]
  },
  {
   "cell_type": "code",
   "execution_count": 2,
   "metadata": {},
   "outputs": [],
   "source": [
    "# Load events fetched from tutby, relax, citydog\n",
    "\n",
    "with open(\"C:\\\\Projects\\\\Research\\\\Events\\\\data\\\\event_data\\\\raw_data\\\\2020_5_8_0\\\\events_reduced.json\", \"r+\", encoding=\"utf-8\") as f:\n",
    "    events = json.load(f)"
   ]
  },
  {
   "cell_type": "code",
   "execution_count": 5,
   "metadata": {},
   "outputs": [],
   "source": [
    "# Load events fetched from vk, tg\n",
    "\n",
    "with open(\"C:\\\\Projects\\\\Research\\\\Events\\\\data\\\\event_data\\\\vk_tg_events.json\", \"r+\", encoding=\"utf-8\") as f:\n",
    "    events = json.load(f)\n",
    "    \n",
    "# Create file for type classification\n",
    "# {\"text\": \"Terrible customer service.\", \"labels\": [\"-\"]}\n",
    "\n",
    "with open(\"C:\\\\Projects\\\\Research\\\\Events\\\\data\\\\doccano\\\\type_classification_vk_tg.jsonl\", \"w+\", encoding=\"utf-8\") as f:\n",
    "    for event in events:\n",
    "        event_description = event['text'].strip()\n",
    "        if len(event_description) < 50:\n",
    "            continue\n",
    "        if detect_lang(event_description) == \"by\":\n",
    "            continue\n",
    "        labeled_event = {\"text\": event_description, \"labels\": [\"-\"]}\n",
    "        f.write(json.dumps(labeled_event, ensure_ascii=False) + \"\\n\")"
   ]
  },
  {
   "cell_type": "code",
   "execution_count": 11,
   "metadata": {},
   "outputs": [
    {
     "data": {
      "text/plain": [
       "{'title': 'Концерт Руслана Алехно и ансамбля Вооруженных сил РБ с программой \"Наследие\"',\n",
       " 'short_description': '',\n",
       " 'description': 'О событии\\n«Наследие» - это специально подготовленная программа Руслана Алехно и\\n«Заслуженного коллектива Республики Беларусь «Академического ансамбля песни и танца Вооруженных Сил Республики Беларусь» под руководством Дмитрия Наумовича.\\nВ праздничном концерте, посвященном 75-летию Победы в Великой Отечественной войне прозвучат знаменитые песни военных лет и любимые мелодии военной поры.\\xa0\\nСтоимость билетов:\\xa020 - 40 руб.',\n",
       " 'poster': 'https://img.afisha.tut.by/static/media/340x0s/cover/0c/2/koncert-ruslana-alekhno-i-ansamblya-vooruzhennykh-sil-rb-s-programmoy-nasledie-408465.jpg',\n",
       " 'url': 'https://afisha.tut.by/concert/ruslan_alekhno/',\n",
       " 'place': {'name': 'Центральный Дом офицеров',\n",
       "  'address': 'г. Минск, ул. Красноармейская, 3',\n",
       "  'url': 'https://afisha.tut.by/place/dom-ofitserov/'},\n",
       " 'tags': ['Концерт', 'Поп'],\n",
       " 'age': None,\n",
       " 'registration': None,\n",
       " 'info': None,\n",
       " 'cost': None,\n",
       " 'dates': [{'year': 2020, 'month': 5, 'day': 8, 'hour': 19, 'minute': 0}]}"
      ]
     },
     "execution_count": 11,
     "metadata": {},
     "output_type": "execute_result"
    }
   ],
   "source": [
    "events[0]"
   ]
  },
  {
   "cell_type": "code",
   "execution_count": 12,
   "metadata": {},
   "outputs": [],
   "source": [
    "# Load tags and types\n",
    "\n",
    "with open(\"C:\\\\Projects\\\\Research\\\\Events\\\\data\\\\tags\\\\unified_tags.json\", \"r+\", encoding=\"utf-8\") as f:\n",
    "    tags_types = json.load(f)\n",
    "    \n",
    "event_types = tags_types['types']\n",
    "event_tags = tags_types['tags']"
   ]
  },
  {
   "cell_type": "code",
   "execution_count": 52,
   "metadata": {},
   "outputs": [],
   "source": [
    "new_type_mapping = {\n",
    "    \"Форум\": \"Конференция\",\n",
    "    \"Воркшоп\": \"Мастер-класс\",\n",
    "    \"Турнир\": \"Спортивное мероприятие\",\n",
    "    \"Кино\": \"Просмотр\",\n",
    "    \"Творческая встреча\": \"Встреча\",\n",
    "    \"Митап\": \"Семинар\",\n",
    "    \"Занятие\": \"Мастер-класс\",\n",
    "    \"Литературный вечер\": \"Семинар\"\n",
    "}"
   ]
  },
  {
   "cell_type": "code",
   "execution_count": 43,
   "metadata": {},
   "outputs": [
    {
     "data": {
      "text/plain": [
       "'Автограф-сессия'"
      ]
     },
     "execution_count": 43,
     "metadata": {},
     "output_type": "execute_result"
    }
   ],
   "source": [
    "event_types[0]"
   ]
  },
  {
   "cell_type": "code",
   "execution_count": 50,
   "metadata": {},
   "outputs": [
    {
     "ename": "TypeError",
     "evalue": "list indices must be integers or slices, not str",
     "output_type": "error",
     "traceback": [
      "\u001b[1;31m---------------------------------------------------------------------------\u001b[0m",
      "\u001b[1;31mTypeError\u001b[0m                                 Traceback (most recent call last)",
      "\u001b[1;32m<ipython-input-50-98d8d6badfb6>\u001b[0m in \u001b[0;36m<module>\u001b[1;34m\u001b[0m\n\u001b[1;32m----> 1\u001b[1;33m \u001b[0mevent_tags\u001b[0m\u001b[1;33m[\u001b[0m\u001b[1;34m'sport'\u001b[0m\u001b[1;33m]\u001b[0m\u001b[1;33m\u001b[0m\u001b[1;33m\u001b[0m\u001b[0m\n\u001b[0m",
      "\u001b[1;31mTypeError\u001b[0m: list indices must be integers or slices, not str"
     ]
    }
   ],
   "source": [
    "event_tags['sport']"
   ]
  },
  {
   "cell_type": "code",
   "execution_count": 48,
   "metadata": {},
   "outputs": [],
   "source": [
    "# Create file for type classification\n",
    "# {\"text\": \"Terrible customer service.\", \"labels\": [\"negative\"]}\n",
    "\n",
    "with open(\"C:\\\\Projects\\\\Research\\\\Events\\\\data\\\\doccano\\\\type_classification.jsonl\", \"w+\", encoding=\"utf-8\") as f:\n",
    "    for event in events:\n",
    "        event_description = event['title'].strip() + \"\\n\" + event['description'].strip()\n",
    "        if len(event_description) < 50:\n",
    "            continue\n",
    "        if detect_lang(event_description) == \"by\":\n",
    "            continue\n",
    "        event_tags = []\n",
    "        for t in event['tags']:\n",
    "            if t in new_type_mapping:\n",
    "                event_tags.append(new_type_mapping[t])\n",
    "            else:\n",
    "                event_tags.append(t)\n",
    "                \n",
    "        labels = [t for t in event_tags if t in event_types]\n",
    "        if len(labels) == 0:\n",
    "            labels = [\"-\"]\n",
    "        labeled_event = {\"text\": event_description, \"labels\": labels}\n",
    "        f.write(json.dumps(labeled_event, ensure_ascii=False) + \"\\n\")"
   ]
  },
  {
   "cell_type": "code",
   "execution_count": 13,
   "metadata": {},
   "outputs": [],
   "source": [
    "# create reversed index\n",
    "tag_to_theme = {}\n",
    "for group, tags in event_tags.items():\n",
    "    for tag in tags:\n",
    "        if tag not in tag_to_theme:\n",
    "            tag_to_theme[tag] = []\n",
    "        tag_to_theme[tag].append(group)"
   ]
  },
  {
   "cell_type": "code",
   "execution_count": 14,
   "metadata": {},
   "outputs": [
    {
     "data": {
      "text/plain": [
       "{'Классика': ['instrumental'],\n",
       " 'Фортепиано': ['instrumental'],\n",
       " 'Скрипка': ['instrumental'],\n",
       " 'Цимбалы': ['instrumental'],\n",
       " 'Вокал': ['instrumental'],\n",
       " 'Гитара': ['instrumental'],\n",
       " 'Аккордеон': ['instrumental'],\n",
       " 'Баян': ['instrumental'],\n",
       " 'Саксофон': ['instrumental'],\n",
       " 'Романс': ['instrumental'],\n",
       " 'Шансон': ['instrumental', 'vocal'],\n",
       " 'Блюз': ['instrumental', 'vocal'],\n",
       " 'Джаз': ['instrumental', 'vocal'],\n",
       " 'Соул': ['instrumental', 'vocal'],\n",
       " 'Фьюжн': ['instrumental', 'vocal'],\n",
       " 'Гранж': ['instrumental', 'vocal'],\n",
       " 'Инди': ['instrumental', 'vocal'],\n",
       " 'Акустика': ['instrumental', 'vocal'],\n",
       " 'Альтернатива': ['instrumental', 'vocal'],\n",
       " 'Инди-рок': ['instrumental', 'vocal'],\n",
       " 'Кантри': ['instrumental', 'vocal'],\n",
       " 'Панк-рок': ['instrumental', 'vocal'],\n",
       " 'Пост-панк': ['instrumental', 'vocal'],\n",
       " 'Поп-рок': ['instrumental', 'vocal'],\n",
       " 'Поп-панк': ['instrumental', 'vocal'],\n",
       " 'Пост-хардкор': ['instrumental', 'vocal'],\n",
       " 'Пост-рок': ['instrumental', 'vocal'],\n",
       " 'Транскор': ['instrumental', 'vocal'],\n",
       " 'Панк': ['instrumental', 'vocal'],\n",
       " 'Пауэр-метал': ['instrumental', 'vocal'],\n",
       " 'Рок': ['instrumental', 'vocal'],\n",
       " 'Русский рок': ['instrumental', 'vocal'],\n",
       " 'Ска': ['instrumental', 'vocal'],\n",
       " 'Метал': ['instrumental', 'vocal'],\n",
       " 'Фолк': ['instrumental', 'vocal', 'folk'],\n",
       " 'Этническая музыка': ['instrumental', 'vocal', 'folk'],\n",
       " 'Хеви-метал': ['instrumental', 'vocal'],\n",
       " 'Хардкор': ['instrumental', 'vocal'],\n",
       " 'Фанк': ['instrumental', 'vocal'],\n",
       " 'Регги': ['instrumental', 'vocal'],\n",
       " 'Трип-хоп': ['instrumental', 'vocal'],\n",
       " 'Бардовская песня': ['instrumental', 'vocal'],\n",
       " 'Авторская песня': ['instrumental', 'vocal'],\n",
       " 'Инди-поп': ['instrumental', 'vocal'],\n",
       " 'Поп': ['instrumental', 'vocal'],\n",
       " 'Рэп': ['instrumental', 'vocal'],\n",
       " 'Кавер-бэнд': ['instrumental', 'vocal'],\n",
       " 'Трибьют': ['instrumental', 'vocal'],\n",
       " 'Хоровая музыка': ['vocal'],\n",
       " 'Эстрада': ['vocal'],\n",
       " 'Электронная музыка': ['electronic'],\n",
       " 'Экспериментальная': ['electronic'],\n",
       " 'House': ['electronic'],\n",
       " 'Dj': ['electronic'],\n",
       " 'Лаунж': ['electronic'],\n",
       " 'Творческий вечер': ['personal'],\n",
       " 'Персональный': ['personal'],\n",
       " 'Моноспектакль': ['personal', 'theater'],\n",
       " 'Драма': ['serious', 'theater'],\n",
       " 'Мелодрама': ['serious', 'theater'],\n",
       " 'Трагедия': ['serious', 'theater'],\n",
       " 'Трагикомедия': ['serious', 'theater'],\n",
       " 'Комедия': ['comedy', 'theater'],\n",
       " 'Юмор': ['comedy'],\n",
       " 'Театр': ['theater'],\n",
       " 'Водевиль': ['theater', 'musical'],\n",
       " 'Мюзикл': ['theater', 'musical'],\n",
       " 'Опера': ['theater', 'musical'],\n",
       " 'Оперетта': ['theater', 'musical', 'dance'],\n",
       " 'Музыка': ['musical'],\n",
       " 'Кукольный': ['doll'],\n",
       " 'Игрушки': ['doll'],\n",
       " 'Футбол': ['spectacular_sport'],\n",
       " 'Хоккей': ['spectacular_sport'],\n",
       " 'Биатлон': ['spectacular_sport'],\n",
       " 'Баскетбол': ['spectacular_sport'],\n",
       " 'Волейбол': ['spectacular_sport'],\n",
       " 'Гонка': ['spectacular_sport'],\n",
       " 'Смешанные единоборства': ['spectacular_sport'],\n",
       " 'Теннис': ['spectacular_sport'],\n",
       " 'Боевые искусства': ['spectacular_sport'],\n",
       " 'Танцы': ['dance'],\n",
       " 'Балет': ['dance'],\n",
       " 'Йога': ['fit'],\n",
       " 'Фитнес': ['fit'],\n",
       " 'Здоровый образ жизни': ['fit'],\n",
       " 'Активный отдых': ['fit'],\n",
       " 'Бег': ['fit'],\n",
       " 'Сноуборд': ['fit'],\n",
       " 'Кикер': ['fit'],\n",
       " 'Спорт': ['fit'],\n",
       " 'Киберспорт': ['videogame'],\n",
       " 'Декоративно-прикладное': ['art'],\n",
       " 'Иконопись': ['art'],\n",
       " 'Искусство': ['art'],\n",
       " 'Живопись': ['art'],\n",
       " 'Карикатура': ['art'],\n",
       " 'Художественный': ['art'],\n",
       " 'Батик': ['art'],\n",
       " 'Дизайн': ['art'],\n",
       " 'Графика': ['art'],\n",
       " 'Новый Год': ['celebrate'],\n",
       " 'Масленица': ['celebrate'],\n",
       " 'Хэллоуин': ['celebrate'],\n",
       " 'Праздник': ['celebrate'],\n",
       " 'Гастрономия': ['food'],\n",
       " 'Кулинария': ['food'],\n",
       " 'Мед': ['food'],\n",
       " 'Книги': ['literature'],\n",
       " 'Литературно-документальный': ['literature'],\n",
       " 'Литература': ['literature'],\n",
       " 'Личность': ['educational'],\n",
       " 'Образовательное': ['educational'],\n",
       " 'Образование': ['educational'],\n",
       " 'Психология': ['educational'],\n",
       " 'Общество': ['educational'],\n",
       " 'Родительство': ['educational'],\n",
       " 'Строительный': ['home'],\n",
       " 'Интерьер': ['home'],\n",
       " 'Фарфор': ['craft'],\n",
       " 'Керамика': ['craft'],\n",
       " 'HandMade': ['craft'],\n",
       " 'Поделки': ['craft'],\n",
       " 'Скульптура': ['craft'],\n",
       " 'Аксессуары': ['craft'],\n",
       " 'Одежда': ['clothes'],\n",
       " 'Текстиль': ['clothes'],\n",
       " 'Мода': ['clothes'],\n",
       " 'Благотворительность': ['volunteer'],\n",
       " 'Волонтерство': ['volunteer'],\n",
       " 'Военный': ['military'],\n",
       " 'Оружие': ['military'],\n",
       " 'Рыбки': ['animals'],\n",
       " 'Животные': ['animals'],\n",
       " 'Бесплатно': ['free'],\n",
       " 'Open Air': ['open_air'],\n",
       " 'Премьера': ['premier'],\n",
       " 'Интерактив': ['interactive'],\n",
       " 'Активность': ['interactive'],\n",
       " 'Онлайн': ['online'],\n",
       " 'Отмена': ['cancelled'],\n",
       " 'Перенос': ['cancelled'],\n",
       " 'Бизнес': ['business'],\n",
       " 'IT': ['it'],\n",
       " 'Технологии': ['it'],\n",
       " 'Митап': ['it'],\n",
       " 'Детский': ['child'],\n",
       " 'История': ['history'],\n",
       " 'Международный': ['international'],\n",
       " 'Магия': ['magic'],\n",
       " 'Кино': ['cinema'],\n",
       " 'Природа и экология': ['ecology'],\n",
       " 'Велосипед': ['bicycle'],\n",
       " 'Туризм': ['tourism'],\n",
       " 'Фото': ['photo'],\n",
       " 'Ретро': ['retro'],\n",
       " 'Для свиданий': ['other'],\n",
       " 'Развлекательный': ['other']}"
      ]
     },
     "execution_count": 14,
     "metadata": {},
     "output_type": "execute_result"
    }
   ],
   "source": [
    "tag_to_theme"
   ]
  },
  {
   "cell_type": "code",
   "execution_count": 15,
   "metadata": {},
   "outputs": [],
   "source": [
    "# Create file for theme classification\n",
    "# {\"text\": \"Terrible customer service.\", \"labels\": [\"negative\"]}\n",
    "\n",
    "with open(\"C:\\\\Projects\\\\Research\\\\Events\\\\data\\\\doccano\\\\theme_classification.jsonl\", \"w+\", encoding=\"utf-8\") as f:\n",
    "    for event in events:\n",
    "        event_description = event['title'].strip() + \"\\n\" + event['description'].strip()\n",
    "        if len(event_description) < 50:\n",
    "            continue\n",
    "        if detect_lang(event_description) == \"by\":\n",
    "            continue\n",
    "        labels = [tag_to_theme[t] for t in event['tags'] if t in tag_to_theme]\n",
    "        labels = list(set([l for sublist in labels for l in sublist]))\n",
    "        if len(labels) == 0:\n",
    "            labels = [\"-\"]\n",
    "\n",
    "        labeled_event = {\"text\": event_description, \"labels\": labels}\n",
    "        f.write(json.dumps(labeled_event, ensure_ascii=False) + \"\\n\")"
   ]
  },
  {
   "cell_type": "code",
   "execution_count": 27,
   "metadata": {},
   "outputs": [],
   "source": [
    "# Load events fetched from vk, tg\n",
    "\n",
    "with open(\"C:\\\\Projects\\\\Research\\\\Events\\\\data\\\\event_data\\\\vk_tg_events_filtered.json\", \"r+\", encoding=\"utf-8\") as f:\n",
    "    events = json.load(f)\n",
    "    \n",
    "# Create file for theme classification\n",
    "# {\"text\": \"Terrible customer service.\", \"labels\": [\"-\"]}\n",
    "\n",
    "with open(\"C:\\\\Projects\\\\Research\\\\Events\\\\data\\\\doccano\\\\theme_classification_vk_tg.jsonl\", \"w+\", encoding=\"utf-8\") as f:\n",
    "    for event in events:\n",
    "        if len(event) < 50:\n",
    "            continue\n",
    "        if detect_lang(event) == \"by\":\n",
    "            continue\n",
    "        labeled_event = {\"text\": event, \"labels\": [\"-\"]}\n",
    "        f.write(json.dumps(labeled_event, ensure_ascii=False) + \"\\n\")"
   ]
  },
  {
   "cell_type": "code",
   "execution_count": null,
   "metadata": {},
   "outputs": [],
   "source": []
  }
 ],
 "metadata": {
  "kernelspec": {
   "display_name": "Python 3",
   "language": "python",
   "name": "python3"
  },
  "language_info": {
   "codemirror_mode": {
    "name": "ipython",
    "version": 3
   },
   "file_extension": ".py",
   "mimetype": "text/x-python",
   "name": "python",
   "nbconvert_exporter": "python",
   "pygments_lexer": "ipython3",
   "version": "3.7.4"
  }
 },
 "nbformat": 4,
 "nbformat_minor": 4
}
