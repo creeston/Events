{
 "cells": [
  {
   "cell_type": "code",
   "execution_count": 47,
   "metadata": {},
   "outputs": [],
   "source": [
    "import json\n",
    "\n",
    "def detect_lang(text):\n",
    "    by_letters = ['і', 'ў', 'шч']\n",
    "    for by_letter in by_letters:\n",
    "        if by_letter in text:\n",
    "            return \"by\"\n",
    "    return \"ru\""
   ]
  },
  {
   "cell_type": "code",
   "execution_count": 38,
   "metadata": {},
   "outputs": [],
   "source": [
    "# Load events fetched from tutby, relax, citydog\n",
    "\n",
    "with open(\"C:\\\\Projects\\\\Research\\\\Events\\\\data\\\\event_data\\\\raw_data\\\\2020_5_8_0\\\\events_reduced.json\", \"r+\", encoding=\"utf-8\") as f:\n",
    "    events = json.load(f)"
   ]
  },
  {
   "cell_type": "code",
   "execution_count": 39,
   "metadata": {},
   "outputs": [
    {
     "data": {
      "text/plain": [
       "{'title': 'Концерт Руслана Алехно и ансамбля Вооруженных сил РБ с программой \"Наследие\"',\n",
       " 'short_description': '',\n",
       " 'description': 'О событии\\n«Наследие» - это специально подготовленная программа Руслана Алехно и\\n«Заслуженного коллектива Республики Беларусь «Академического ансамбля песни и танца Вооруженных Сил Республики Беларусь» под руководством Дмитрия Наумовича.\\nВ праздничном концерте, посвященном 75-летию Победы в Великой Отечественной войне прозвучат знаменитые песни военных лет и любимые мелодии военной поры.\\xa0\\nСтоимость билетов:\\xa020 - 40 руб.',\n",
       " 'poster': 'https://img.afisha.tut.by/static/media/340x0s/cover/0c/2/koncert-ruslana-alekhno-i-ansamblya-vooruzhennykh-sil-rb-s-programmoy-nasledie-408465.jpg',\n",
       " 'url': 'https://afisha.tut.by/concert/ruslan_alekhno/',\n",
       " 'place': {'name': 'Центральный Дом офицеров',\n",
       "  'address': 'г. Минск, ул. Красноармейская, 3',\n",
       "  'url': 'https://afisha.tut.by/place/dom-ofitserov/'},\n",
       " 'tags': ['Концерт', 'Поп'],\n",
       " 'age': None,\n",
       " 'registration': None,\n",
       " 'info': None,\n",
       " 'cost': None,\n",
       " 'dates': [{'year': 2020, 'month': 5, 'day': 8, 'hour': 19, 'minute': 0}]}"
      ]
     },
     "execution_count": 39,
     "metadata": {},
     "output_type": "execute_result"
    }
   ],
   "source": [
    "events[0]"
   ]
  },
  {
   "cell_type": "code",
   "execution_count": 51,
   "metadata": {},
   "outputs": [],
   "source": [
    "# Load tags and types\n",
    "\n",
    "with open(\"C:\\\\Projects\\\\Research\\\\Events\\\\data\\\\tags\\\\unified_tags.json\", \"r+\", encoding=\"utf-8\") as f:\n",
    "    tags_types = json.load(f)\n",
    "    \n",
    "event_types = tags_types['types']\n",
    "event_tags = tags_types['tags']"
   ]
  },
  {
   "cell_type": "code",
   "execution_count": 52,
   "metadata": {},
   "outputs": [],
   "source": [
    "new_type_mapping = {\n",
    "    \"Форум\": \"Конференция\",\n",
    "    \"Воркшоп\": \"Мастер-класс\",\n",
    "    \"Турнир\": \"Спортивное мероприятие\",\n",
    "    \"Кино\": \"Просмотр\",\n",
    "    \"Творческая встреча\": \"Встреча\",\n",
    "    \"Митап\": \"Семинар\",\n",
    "    \"Занятие\": \"Мастер-класс\",\n",
    "    \"Литературный вечер\": \"Семинар\"\n",
    "}"
   ]
  },
  {
   "cell_type": "code",
   "execution_count": 43,
   "metadata": {},
   "outputs": [
    {
     "data": {
      "text/plain": [
       "'Автограф-сессия'"
      ]
     },
     "execution_count": 43,
     "metadata": {},
     "output_type": "execute_result"
    }
   ],
   "source": [
    "event_types[0]"
   ]
  },
  {
   "cell_type": "code",
   "execution_count": 50,
   "metadata": {},
   "outputs": [
    {
     "ename": "TypeError",
     "evalue": "list indices must be integers or slices, not str",
     "output_type": "error",
     "traceback": [
      "\u001b[1;31m---------------------------------------------------------------------------\u001b[0m",
      "\u001b[1;31mTypeError\u001b[0m                                 Traceback (most recent call last)",
      "\u001b[1;32m<ipython-input-50-98d8d6badfb6>\u001b[0m in \u001b[0;36m<module>\u001b[1;34m\u001b[0m\n\u001b[1;32m----> 1\u001b[1;33m \u001b[0mevent_tags\u001b[0m\u001b[1;33m[\u001b[0m\u001b[1;34m'sport'\u001b[0m\u001b[1;33m]\u001b[0m\u001b[1;33m\u001b[0m\u001b[1;33m\u001b[0m\u001b[0m\n\u001b[0m",
      "\u001b[1;31mTypeError\u001b[0m: list indices must be integers or slices, not str"
     ]
    }
   ],
   "source": [
    "event_tags['sport']"
   ]
  },
  {
   "cell_type": "code",
   "execution_count": 48,
   "metadata": {},
   "outputs": [],
   "source": [
    "# Create file for type classification\n",
    "# {\"text\": \"Terrible customer service.\", \"labels\": [\"negative\"]}\n",
    "\n",
    "with open(\"C:\\\\Projects\\\\Research\\\\Events\\\\data\\\\doccano\\\\type_classification.jsonl\", \"w+\", encoding=\"utf-8\") as f:\n",
    "    for event in events:\n",
    "        event_description = event['title'].strip() + \"\\n\" + event['description'].strip()\n",
    "        if len(event_description) < 50:\n",
    "            continue\n",
    "        if detect_lang(event_description) == \"by\":\n",
    "            continue\n",
    "        event_tags = []\n",
    "        for t in event['tags']:\n",
    "            if t in new_type_mapping:\n",
    "                event_tags.append(new_type_mapping[t])\n",
    "            else:\n",
    "                event_tags.append(t)\n",
    "                \n",
    "        labels = [t for t in event_tags if t in event_types]\n",
    "        if len(labels) == 0:\n",
    "            labels = [\"-\"]\n",
    "        labeled_event = {\"text\": event_description, \"labels\": labels}\n",
    "        f.write(json.dumps(labeled_event, ensure_ascii=False) + \"\\n\")"
   ]
  },
  {
   "cell_type": "code",
   "execution_count": 53,
   "metadata": {},
   "outputs": [],
   "source": [
    "# Create file for theme classification\n",
    "# {\"text\": \"Terrible customer service.\", \"labels\": [\"negative\"]}\n",
    "\n",
    "# create reversed index\n",
    "tag_to_theme = {}\n",
    "for group, tags in event_tags.items():\n",
    "    for tag in tags:\n",
    "        tag_to_theme[tag] = group\n",
    "\n",
    "\n",
    "\n",
    "with open(\"C:\\\\Projects\\\\Research\\\\Events\\\\data\\\\doccano\\\\theme_classification\", \"w+\", encoding=\"utf-8\") as f:\n",
    "    for event in events:\n",
    "        event_description = event['title'].strip() + \"\\n\" + event['description'].strip()\n",
    "        if len(event_description) < 50:\n",
    "            continue\n",
    "        if detect_lang(event_description) == \"by\":\n",
    "            continue\n",
    "        labels = [t for t in event['tags'] if t in tag_to_theme]\n",
    "        labeled_event = {\"text\": event_description, \"labels\": [tag_to_theme[l] for l in labels]}\n",
    "        f.write(json.dumps(labeled_event, ensure_ascii=False) + \"\\n\")"
   ]
  },
  {
   "cell_type": "code",
   "execution_count": null,
   "metadata": {},
   "outputs": [],
   "source": []
  }
 ],
 "metadata": {
  "kernelspec": {
   "display_name": "Python 3",
   "language": "python",
   "name": "python3"
  },
  "language_info": {
   "codemirror_mode": {
    "name": "ipython",
    "version": 3
   },
   "file_extension": ".py",
   "mimetype": "text/x-python",
   "name": "python",
   "nbconvert_exporter": "python",
   "pygments_lexer": "ipython3",
   "version": "3.7.4"
  }
 },
 "nbformat": 4,
 "nbformat_minor": 4
}
